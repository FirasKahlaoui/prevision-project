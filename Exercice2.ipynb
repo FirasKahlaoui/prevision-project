{
 "cells": [
  {
   "cell_type": "markdown",
   "metadata": {},
   "source": [
    "# Exercice 2\n",
    "### Firas Kahlaoui 3 BD 1"
   ]
  },
  {
   "cell_type": "code",
   "execution_count": 65,
   "metadata": {
    "vscode": {
     "languageId": "r"
    }
   },
   "outputs": [
    {
     "name": "stderr",
     "output_type": "stream",
     "text": [
      "Loading required package: carData\n",
      "\n",
      "\n",
      "Attaching package: 'car'\n",
      "\n",
      "\n",
      "The following object is masked from 'package:dplyr':\n",
      "\n",
      "    recode\n",
      "\n",
      "\n"
     ]
    }
   ],
   "source": [
    "library(readxl)\n",
    "library(nnet)\n",
    "library(tseries)\n",
    "library(vars)\n",
    "library(dplyr)\n",
    "library(lmtest)\n",
    "library(car)"
   ]
  },
  {
   "cell_type": "code",
   "execution_count": 66,
   "metadata": {
    "vscode": {
     "languageId": "r"
    }
   },
   "outputs": [
    {
     "data": {
      "text/html": [
       "<table class=\"dataframe\">\n",
       "<caption>A tibble: 6 × 5</caption>\n",
       "<thead>\n",
       "\t<tr><th scope=col>Continente</th><th scope=col>Dis_Mag_Value</th><th scope=col>nombre_total_de_deces</th><th scope=col>Total_Affecte</th><th scope=col>Total_des_dommages</th></tr>\n",
       "\t<tr><th scope=col>&lt;dbl&gt;</th><th scope=col>&lt;dbl&gt;</th><th scope=col>&lt;dbl&gt;</th><th scope=col>&lt;dbl&gt;</th><th scope=col>&lt;dbl&gt;</th></tr>\n",
       "</thead>\n",
       "<tbody>\n",
       "\t<tr><td>2</td><td>8</td><td>  12</td><td>    40</td><td>500000</td></tr>\n",
       "\t<tr><td>3</td><td>7</td><td> 476</td><td>141277</td><td>100000</td></tr>\n",
       "\t<tr><td>2</td><td>7</td><td>   3</td><td>    15</td><td>  7310</td></tr>\n",
       "\t<tr><td>4</td><td>7</td><td>1250</td><td>134250</td><td>  6000</td></tr>\n",
       "\t<tr><td>3</td><td>7</td><td>  31</td><td>   200</td><td>  3150</td></tr>\n",
       "\t<tr><td>1</td><td>8</td><td> 100</td><td>  2000</td><td> 25000</td></tr>\n",
       "</tbody>\n",
       "</table>\n"
      ],
      "text/latex": [
       "A tibble: 6 × 5\n",
       "\\begin{tabular}{lllll}\n",
       " Continente & Dis\\_Mag\\_Value & nombre\\_total\\_de\\_deces & Total\\_Affecte & Total\\_des\\_dommages\\\\\n",
       " <dbl> & <dbl> & <dbl> & <dbl> & <dbl>\\\\\n",
       "\\hline\n",
       "\t 2 & 8 &   12 &     40 & 500000\\\\\n",
       "\t 3 & 7 &  476 & 141277 & 100000\\\\\n",
       "\t 2 & 7 &    3 &     15 &   7310\\\\\n",
       "\t 4 & 7 & 1250 & 134250 &   6000\\\\\n",
       "\t 3 & 7 &   31 &    200 &   3150\\\\\n",
       "\t 1 & 8 &  100 &   2000 &  25000\\\\\n",
       "\\end{tabular}\n"
      ],
      "text/markdown": [
       "\n",
       "A tibble: 6 × 5\n",
       "\n",
       "| Continente &lt;dbl&gt; | Dis_Mag_Value &lt;dbl&gt; | nombre_total_de_deces &lt;dbl&gt; | Total_Affecte &lt;dbl&gt; | Total_des_dommages &lt;dbl&gt; |\n",
       "|---|---|---|---|---|\n",
       "| 2 | 8 |   12 |     40 | 500000 |\n",
       "| 3 | 7 |  476 | 141277 | 100000 |\n",
       "| 2 | 7 |    3 |     15 |   7310 |\n",
       "| 4 | 7 | 1250 | 134250 |   6000 |\n",
       "| 3 | 7 |   31 |    200 |   3150 |\n",
       "| 1 | 8 |  100 |   2000 |  25000 |\n",
       "\n"
      ],
      "text/plain": [
       "  Continente Dis_Mag_Value nombre_total_de_deces Total_Affecte\n",
       "1 2          8               12                      40       \n",
       "2 3          7              476                  141277       \n",
       "3 2          7                3                      15       \n",
       "4 4          7             1250                  134250       \n",
       "5 3          7               31                     200       \n",
       "6 1          8              100                    2000       \n",
       "  Total_des_dommages\n",
       "1 500000            \n",
       "2 100000            \n",
       "3   7310            \n",
       "4   6000            \n",
       "5   3150            \n",
       "6  25000            "
      ]
     },
     "metadata": {},
     "output_type": "display_data"
    },
    {
     "name": "stdout",
     "output_type": "stream",
     "text": [
      "tibble [108 × 5] (S3: tbl_df/tbl/data.frame)\n",
      " $ Continente           : num [1:108] 2 3 2 4 3 1 2 4 3 2 ...\n",
      " $ Dis_Mag_Value        : num [1:108] 8 7 7 7 7 8 7 6 6 8 ...\n",
      " $ nombre_total_de_deces: num [1:108] 12 476 3 1250 31 100 400 2 38 4 ...\n",
      " $ Total_Affecte        : num [1:108] 40 141277 15 134250 200 ...\n",
      " $ Total_des_dommages   : num [1:108] 500000 100000 7310 6000 3150 25000 125000 2000 8000 400 ...\n"
     ]
    }
   ],
   "source": [
    "# Read the Excel file\n",
    "data <- read_excel(\"./data/exercice2.xlsx\")\n",
    "# Display the first few rows of the data\n",
    "head(data)\n",
    "str(data)"
   ]
  },
  {
   "cell_type": "markdown",
   "metadata": {},
   "source": [
    "## Expliquer la variable continente"
   ]
  },
  {
   "cell_type": "code",
   "execution_count": 67,
   "metadata": {
    "vscode": {
     "languageId": "r"
    }
   },
   "outputs": [
    {
     "name": "stdout",
     "output_type": "stream",
     "text": [
      "# weights:  30 (20 variable)\n",
      "initial  value 173.819295 \n",
      "iter  10 value 165.148541\n",
      "iter  20 value 131.900368\n",
      "iter  30 value 125.614527\n",
      "iter  40 value 125.098755\n",
      "iter  50 value 124.569999\n",
      "iter  60 value 123.846741\n",
      "iter  70 value 122.842655\n",
      "iter  80 value 122.716010\n",
      "final  value 122.714668 \n",
      "converged\n"
     ]
    },
    {
     "data": {
      "text/plain": [
       "Call:\n",
       "multinom(formula = Continente ~ Dis_Mag_Value + nombre_total_de_deces + \n",
       "    Total_Affecte + Total_des_dommages, data = data)\n",
       "\n",
       "Coefficients:\n",
       "  (Intercept) Dis_Mag_Value nombre_total_de_deces Total_Affecte\n",
       "2   -4.807929     0.6177011         -3.017864e-05  9.305018e-07\n",
       "3    5.326481    -0.9018543         -3.933559e-04  1.298160e-06\n",
       "4    7.680986    -1.4427079         -1.203217e-05  1.060519e-06\n",
       "5   -6.456925     0.8655634         -2.439808e-02 -1.408477e-04\n",
       "  Total_des_dommages\n",
       "2       4.043856e-07\n",
       "3       2.230761e-07\n",
       "4       2.370130e-07\n",
       "5      -1.795839e-04\n",
       "\n",
       "Std. Errors:\n",
       "   (Intercept) Dis_Mag_Value nombre_total_de_deces Total_Affecte\n",
       "2 3.457665e-08  2.398805e-07          3.356182e-05  7.155007e-07\n",
       "3 9.207998e-08  6.071898e-07          3.224619e-04  1.013857e-06\n",
       "4 1.374329e-08  8.091810e-08          4.799140e-05  1.007641e-06\n",
       "5 3.854395e-08  2.675433e-07          4.320014e-07  2.195122e-04\n",
       "  Total_des_dommages\n",
       "2       3.148590e-07\n",
       "3       3.271382e-07\n",
       "4       3.320683e-07\n",
       "5       2.530911e-04\n",
       "\n",
       "Residual Deviance: 245.4293 \n",
       "AIC: 285.4293 "
      ]
     },
     "metadata": {},
     "output_type": "display_data"
    }
   ],
   "source": [
    "model <- multinom(Continente ~ Dis_Mag_Value + nombre_total_de_deces\n",
    "                  + Total_Affecte + Total_des_dommages, data = data)\n",
    "\n",
    "summary(model)"
   ]
  },
  {
   "cell_type": "markdown",
   "metadata": {},
   "source": [
    "### Interprétation du modèle\n",
    "\n",
    "- **Dis Mag Value** : Le coefficient pour \"Dis Mag Value\" est positif pour la classe 2, négatif pour les classes 3 et 4. Cela suggère que \"Dis Mag Value\" a une influence variable sur \"Continente\", affectant positivement certaines classes et négativement d'autres.\n",
    "- **Nombre total de décès** : Le coefficient est très faible pour toutes les classes, indiquant une influence marginale de cette variable sur \"Continente\".\n",
    "- **Total Affecté** : Le coefficient est très faible, mais légèrement positif pour la classe 2 et négatif pour la classe 5, ce qui suggère une influence faible mais présente sur \"Continente\".\n",
    "- **Total des dommages** : Les coefficients sont proches de zéro, ce qui indique une faible influence sur \"Continente\" pour cette variable."
   ]
  },
  {
   "cell_type": "markdown",
   "metadata": {},
   "source": [
    "## Déterminer la qualité du modèle"
   ]
  },
  {
   "cell_type": "code",
   "execution_count": 68,
   "metadata": {
    "vscode": {
     "languageId": "r"
    }
   },
   "outputs": [
    {
     "name": "stdout",
     "output_type": "stream",
     "text": [
      "           \n",
      "predictions  1  2  3  4  5\n",
      "          1 29 18 13  6  2\n",
      "          2  7 13  3  1  0\n",
      "          3  5  1  6  2  0\n",
      "          4  0  0  0  2  0\n",
      "          5  0  0  0  0  0\n"
     ]
    }
   ],
   "source": [
    "# Check model performance with a confusion matrix\n",
    "predictions <- predict(model, newdata = data)\n",
    "confusion_matrix <- table(predictions, data$Continente)\n",
    "print(confusion_matrix)"
   ]
  },
  {
   "cell_type": "markdown",
   "metadata": {},
   "source": [
    "\n",
    "### Matrice de confusion :\n",
    "\n",
    "- **Classe 1 :**\n",
    "    - 29 prédictions correctes pour la classe 1.\n",
    "    - 18 erreurs où la classe 1 a été classée comme classe 2.\n",
    "    - 13 erreurs où la classe 1 a été classée comme classe 3.\n",
    "    - 6 erreurs où la classe 1 a été classée comme classe 4.\n",
    "    - 2 erreurs où la classe 1 a été classée comme classe 5.\n",
    "\n",
    "- **Classe 2 :**\n",
    "    - 13 prédictions correctes pour la classe 2.\n",
    "    - 7 erreurs où la classe 2 a été classée comme classe 1.\n",
    "    - 3 erreurs où la classe 2 a été classée comme classe 3.\n",
    "    - 1 erreur où la classe 2 a été classée comme classe 4.\n",
    "    - Aucune erreur où la classe 2 a été classée comme classe 5.\n",
    "\n",
    "- **Classe 3 :**\n",
    "    - 6 prédictions correctes pour la classe 3.\n",
    "    - 5 erreurs où la classe 3 a été classée comme classe 1.\n",
    "    - 1 erreur où la classe 3 a été classée comme classe 2.\n",
    "    - 2 erreurs où la classe 3 a été classée comme classe 4.\n",
    "    - Aucune erreur où la classe 3 a été classée comme classe 5.\n",
    "\n",
    "- **Classe 4 :**\n",
    "    - 2 prédictions correctes pour la classe 4.\n",
    "    - Aucune erreur où la classe 4 a été classée comme classe 1.\n",
    "    - Aucune erreur où la classe 4 a été classée comme classe 2.\n",
    "    - Aucune erreur où la classe 4 a été classée comme classe 3.\n",
    "    - 2 erreurs où la classe 4 a été classée comme classe 5.\n",
    "\n",
    "- **Classe 5 :**\n",
    "    - Aucune prédiction correcte pour la classe 5.\n",
    "    - Aucune erreur où la classe 5 a été classée comme une autre classe."
   ]
  },
  {
   "cell_type": "code",
   "execution_count": 69,
   "metadata": {
    "vscode": {
     "languageId": "r"
    }
   },
   "outputs": [
    {
     "name": "stdout",
     "output_type": "stream",
     "text": [
      "[1] \"Accuracy: 0.462962962962963\"\n"
     ]
    }
   ],
   "source": [
    "# Calculate accuracy\n",
    "accuracy <- sum(diag(confusion_matrix)) / sum(confusion_matrix)\n",
    "print(paste(\"Accuracy:\", accuracy))"
   ]
  },
  {
   "cell_type": "markdown",
   "metadata": {},
   "source": [
    "### Précision du modèle :\n",
    "\n",
    "- **Précision totale** : 46.3 % (0.463), ce qui est relativement faible.\n",
    "- **Le modèle a des difficultés à prédire correctement la classe 5**, ce qui suggère que cette classe est sous-représentée ou difficile à distinguer des autres classes.\n",
    "- **Les erreurs de classification entre les classes 1, 2 et 3 sont fréquentes**, ce qui montre que le modèle a du mal à différencier ces classes.\n"
   ]
  },
  {
   "cell_type": "markdown",
   "metadata": {},
   "source": [
    "##  Expliquer la variable Dis Mag value"
   ]
  },
  {
   "cell_type": "code",
   "execution_count": 70,
   "metadata": {
    "vscode": {
     "languageId": "r"
    }
   },
   "outputs": [
    {
     "name": "stdout",
     "output_type": "stream",
     "text": [
      "# weights:  30 (20 variable)\n",
      "initial  value 193.510023 \n",
      "iter  10 value 178.341875\n",
      "iter  20 value 133.918263\n",
      "iter  30 value 127.265709\n",
      "iter  40 value 126.230292\n",
      "iter  50 value 125.705007\n",
      "iter  60 value 125.098559\n",
      "iter  70 value 124.351402\n",
      "iter  80 value 124.027365\n",
      "iter  90 value 123.578972\n",
      "iter 100 value 123.309541\n",
      "final  value 123.309541 \n",
      "stopped after 100 iterations\n"
     ]
    },
    {
     "data": {
      "text/plain": [
       "Call:\n",
       "multinom(formula = Dis_Mag_Value ~ nombre_total_de_deces + Total_Affecte + \n",
       "    Total_des_dommages, data = data)\n",
       "\n",
       "Coefficients:\n",
       "  (Intercept) nombre_total_de_deces Total_Affecte Total_des_dommages\n",
       "4   1.4144650         -0.5933362445  6.511416e-06       0.0003920540\n",
       "5   0.2818687         -0.0007285482  1.874325e-05       0.0003997089\n",
       "6   1.3400011          0.0001790053  4.001649e-05       0.0003993648\n",
       "7   1.7559870          0.0001754416  4.003299e-05       0.0003994797\n",
       "8   0.4755223          0.0002000724  4.225506e-05       0.0003992066\n",
       "\n",
       "Std. Errors:\n",
       "   (Intercept) nombre_total_de_deces Total_Affecte Total_des_dommages\n",
       "4 6.931299e-09          9.498022e-09  1.351225e-04       1.860743e-05\n",
       "5 2.678236e-09          3.222084e-07  9.039424e-05       7.912646e-06\n",
       "6 4.078630e-09          1.940440e-05  8.802337e-05       7.915000e-06\n",
       "7 6.059144e-09          1.818987e-05  8.802112e-05       7.913400e-06\n",
       "8 1.872733e-09          1.364613e-05  8.802322e-05       7.917249e-06\n",
       "\n",
       "Residual Deviance: 246.6191 \n",
       "AIC: 286.6191 "
      ]
     },
     "metadata": {},
     "output_type": "display_data"
    }
   ],
   "source": [
    "model2 <- multinom(Dis_Mag_Value ~  nombre_total_de_deces\n",
    "                   + Total_Affecte + Total_des_dommages, data = data)\n",
    "\n",
    "summary(model2)"
   ]
  },
  {
   "cell_type": "markdown",
   "metadata": {},
   "source": [
    "### Interprétation des résultats\n",
    "\n",
    "**nombre_total_de_deces :**\n",
    "\n",
    "- **Catégorie 4 :** Coefficient négatif (-0.5933) suggère que lorsque le nombre total de décès augmente, la magnitude des catastrophes pour cette catégorie diminue.\n",
    "- **Catégories 5 à 8 :** Coefficients proches de 0, indiquant une faible relation entre le nombre total de décès et la magnitude dans ces catégories.\n",
    "\n",
    "**Total_Affecte :**\n",
    "\n",
    "- Coefficients positifs pour toutes les catégories, montrant qu'un plus grand nombre de personnes affectées est associé à une augmentation de la magnitude des catastrophes.\n",
    "\n",
    "**Total_des_dommages :**\n",
    "\n",
    "- Coefficients positifs pour toutes les catégories, indiquant qu'une augmentation des dommages financiers est associée à une magnitude plus élevée."
   ]
  },
  {
   "cell_type": "markdown",
   "metadata": {},
   "source": [
    "## Déterminer la qualité du modèle"
   ]
  },
  {
   "cell_type": "code",
   "execution_count": 71,
   "metadata": {
    "vscode": {
     "languageId": "r"
    }
   },
   "outputs": [
    {
     "name": "stdout",
     "output_type": "stream",
     "text": [
      "            \n",
      "predictions2  1  4  5  6  7  8\n",
      "           1  0  0  0  0  0  0\n",
      "           4  0  0  0  0  0  0\n",
      "           5  0  0  1  0  0  0\n",
      "           6  0  0  0  0  0  0\n",
      "           7  1  1  7 29 48 14\n",
      "           8  0  0  0  1  0  6\n"
     ]
    }
   ],
   "source": [
    "# Check model performance with a confusion matrix\n",
    "predictions2 <- predict(model2, newdata = data)\n",
    "confusion_matrix2 <- table(predictions2, data$Dis_Mag_Value)\n",
    "print(confusion_matrix2)"
   ]
  },
  {
   "cell_type": "markdown",
   "metadata": {},
   "source": [
    "### Matrice de confusion :\n",
    "**Classe 1 :**\n",
    "\n",
    "- Aucune prédiction correcte ni incorrecte (aucune donnée associée à cette classe).\n",
    "\n",
    "**Classe 4 :**\n",
    "\n",
    "- Aucune prédiction correcte ni incorrecte (aucune donnée associée à cette classe).\n",
    "\n",
    "**Classe 5 :**\n",
    "\n",
    "- 1 prédiction correcte.\n",
    "- Pas d'erreurs pour cette classe.\n",
    "\n",
    "**Classe 6 :**\n",
    "\n",
    "- Aucune prédiction correcte ni incorrecte.\n",
    "\n",
    "**Classe 7 :**\n",
    "\n",
    "- 29 prédictions correctes.\n",
    "- 7 mal classées comme 5, 48 comme 8, 1 comme 1, et 1 comme 4.\n",
    "\n",
    "**Classe 8 :**\n",
    "\n",
    "- 6 prédictions correctes.\n",
    "- 1 mal classée comme 6."
   ]
  },
  {
   "cell_type": "code",
   "execution_count": 72,
   "metadata": {
    "vscode": {
     "languageId": "r"
    }
   },
   "outputs": [
    {
     "name": "stdout",
     "output_type": "stream",
     "text": [
      "[1] \"Accuracy: 0.509259259259259\"\n"
     ]
    }
   ],
   "source": [
    "# Calculate accuracy\n",
    "accuracy2 <- sum(diag(confusion_matrix2)) / sum(confusion_matrix2)\n",
    "print(paste(\"Accuracy:\", accuracy2))"
   ]
  },
  {
   "cell_type": "markdown",
   "metadata": {},
   "source": [
    "### Précision globale\n",
    "\n",
    "**Accuracy : 0.509 (environ 51 %) :**\n",
    "\n",
    "- **Le modèle a correctement classé environ 51 % des observations.**\n",
    "- **Les erreurs de classification sont principalement concentrées dans les classes 7 et 8.**"
   ]
  },
  {
   "cell_type": "markdown",
   "metadata": {},
   "source": [
    "##  Etudier la stationarité des variables:  Dis Mag value,  nombre total de décès,  total affecté et total des dommages"
   ]
  },
  {
   "cell_type": "markdown",
   "metadata": {},
   "source": [
    "### *Stationarité : Dis Mag Value*"
   ]
  },
  {
   "cell_type": "code",
   "execution_count": 73,
   "metadata": {
    "vscode": {
     "languageId": "r"
    }
   },
   "outputs": [
    {
     "name": "stderr",
     "output_type": "stream",
     "text": [
      "Warning message in adf.test(data$Dis_Mag_Value, alternative = \"stationary\"):\n",
      "\"p-value smaller than printed p-value\"\n"
     ]
    },
    {
     "name": "stdout",
     "output_type": "stream",
     "text": [
      "\n",
      "\tAugmented Dickey-Fuller Test\n",
      "\n",
      "data:  data$Dis_Mag_Value\n",
      "Dickey-Fuller = -4.2359, Lag order = 4, p-value = 0.01\n",
      "alternative hypothesis: stationary\n",
      "\n"
     ]
    }
   ],
   "source": [
    "stastionarity_Dis_Mag_Value <- adf.test(data$Dis_Mag_Value, alternative = \"stationary\")\n",
    "print(stastionarity_Dis_Mag_Value)"
   ]
  },
  {
   "cell_type": "markdown",
   "metadata": {},
   "source": [
    "**p-value = 0.01 < 0.05, on peut conclure que Dis Mag Value est stationnaire d'ordre 0.**"
   ]
  },
  {
   "cell_type": "markdown",
   "metadata": {},
   "source": [
    "### *Stationarité : Nombre total de décès*"
   ]
  },
  {
   "cell_type": "code",
   "execution_count": 74,
   "metadata": {
    "vscode": {
     "languageId": "r"
    }
   },
   "outputs": [
    {
     "name": "stderr",
     "output_type": "stream",
     "text": [
      "Warning message in adf.test(data$nombre_total_de_deces, alternative = \"stationary\"):\n",
      "\"p-value smaller than printed p-value\"\n"
     ]
    },
    {
     "name": "stdout",
     "output_type": "stream",
     "text": [
      "\n",
      "\tAugmented Dickey-Fuller Test\n",
      "\n",
      "data:  data$nombre_total_de_deces\n",
      "Dickey-Fuller = -4.8164, Lag order = 4, p-value = 0.01\n",
      "alternative hypothesis: stationary\n",
      "\n"
     ]
    }
   ],
   "source": [
    "\n",
    "stastionarity_nombre_total_de_deces <- adf.test(data$nombre_total_de_deces, alternative = \"stationary\")\n",
    "print(stastionarity_nombre_total_de_deces)"
   ]
  },
  {
   "cell_type": "markdown",
   "metadata": {},
   "source": [
    "**p-value = 0.01 < 0.05, on peut conclure que nombre total de deces est stationnaire d'ordre 0.**"
   ]
  },
  {
   "cell_type": "markdown",
   "metadata": {},
   "source": [
    "### *Stationarité : Total Affecté*"
   ]
  },
  {
   "cell_type": "code",
   "execution_count": 75,
   "metadata": {
    "vscode": {
     "languageId": "r"
    }
   },
   "outputs": [
    {
     "name": "stderr",
     "output_type": "stream",
     "text": [
      "Warning message in adf.test(data$Total_Affecte, alternative = \"stationary\"):\n",
      "\"p-value smaller than printed p-value\"\n"
     ]
    },
    {
     "name": "stdout",
     "output_type": "stream",
     "text": [
      "\n",
      "\tAugmented Dickey-Fuller Test\n",
      "\n",
      "data:  data$Total_Affecte\n",
      "Dickey-Fuller = -4.0487, Lag order = 4, p-value = 0.01\n",
      "alternative hypothesis: stationary\n",
      "\n"
     ]
    }
   ],
   "source": [
    "\n",
    "stastionarity_Total_Affecte <- adf.test(data$Total_Affecte, alternative = \"stationary\")\n",
    "print(stastionarity_Total_Affecte)"
   ]
  },
  {
   "cell_type": "markdown",
   "metadata": {},
   "source": [
    "**p-value = 0.01 < 0.05, on peut conclure que Total Affecte est stationnaire d'ordre 0.**"
   ]
  },
  {
   "cell_type": "markdown",
   "metadata": {},
   "source": [
    "### *Stationarité : Total des dommages*"
   ]
  },
  {
   "cell_type": "code",
   "execution_count": 76,
   "metadata": {
    "vscode": {
     "languageId": "r"
    }
   },
   "outputs": [
    {
     "name": "stderr",
     "output_type": "stream",
     "text": [
      "Warning message in adf.test(data$Total_des_dommages, alternative = \"stationary\"):\n",
      "\"p-value smaller than printed p-value\"\n"
     ]
    },
    {
     "name": "stdout",
     "output_type": "stream",
     "text": [
      "\n",
      "\tAugmented Dickey-Fuller Test\n",
      "\n",
      "data:  data$Total_des_dommages\n",
      "Dickey-Fuller = -5.2938, Lag order = 4, p-value = 0.01\n",
      "alternative hypothesis: stationary\n",
      "\n"
     ]
    }
   ],
   "source": [
    "stastionarity_Total_des_dommages <- adf.test(data$Total_des_dommages, alternative = \"stationary\")\n",
    "print(stastionarity_Total_des_dommages)"
   ]
  },
  {
   "cell_type": "markdown",
   "metadata": {},
   "source": [
    "**p-value = 0.01 < 0.05, on peut conclure que Total des dommages est stationnaire d'ordre 0.**"
   ]
  },
  {
   "cell_type": "markdown",
   "metadata": {},
   "source": [
    "### Expliquer la variable Dis Mag value en fonction des variables nombre total de décès, total affecté et total des dommages."
   ]
  },
  {
   "cell_type": "markdown",
   "metadata": {},
   "source": [
    "**Toutes les variables, à savoir Dis Mag Value, nombre total de décès, total affecté et total des dommages, sont stationnaires d'ordre 0 (p-value < 0.05). Alors, on va utiliser le modèle VAR.**"
   ]
  },
  {
   "cell_type": "code",
   "execution_count": 77,
   "metadata": {
    "vscode": {
     "languageId": "r"
    }
   },
   "outputs": [],
   "source": [
    "data <- data %>%\n",
    "  select(Dis_Mag_Value, nombre_total_de_deces, Total_Affecte, Total_des_dommages)"
   ]
  },
  {
   "cell_type": "code",
   "execution_count": 78,
   "metadata": {
    "vscode": {
     "languageId": "r"
    }
   },
   "outputs": [
    {
     "name": "stdout",
     "output_type": "stream",
     "text": [
      "$selection\n",
      "AIC(n)  HQ(n)  SC(n) FPE(n) \n",
      "     1      1      1      1 \n",
      "\n",
      "$criteria\n",
      "                  1            2            3            4            5\n",
      "AIC(n) 7.585618e+01 7.594554e+01 7.607099e+01 7.624476e+01 7.647579e+01\n",
      "HQ(n)  7.606956e+01 7.632962e+01 7.662578e+01 7.697026e+01 7.737199e+01\n",
      "SC(n)  7.638373e+01 7.689512e+01 7.744260e+01 7.803841e+01 7.869147e+01\n",
      "FPE(n) 8.791749e+32 9.630061e+32 1.096332e+33 1.314727e+33 1.677772e+33\n",
      "                  6            7            8            9           10\n",
      "AIC(n) 7.666839e+01 7.687756e+01 7.712672e+01 7.712470e+01 7.729111e+01\n",
      "HQ(n)  7.773529e+01 7.811517e+01 7.853503e+01 7.870372e+01 7.904084e+01\n",
      "SC(n)  7.930611e+01 7.993732e+01 8.060851e+01 8.102853e+01 8.161698e+01\n",
      "FPE(n) 2.073344e+33 2.625390e+33 3.493048e+33 3.656805e+33 4.593104e+33\n",
      "\n"
     ]
    }
   ],
   "source": [
    "# Select optimal lag\n",
    "lag_selection <- VARselect(data, lag.max = 10)\n",
    "print(lag_selection)\n",
    "optimal_lag <- lag_selection$selection[\"AIC(n)\"]"
   ]
  },
  {
   "cell_type": "code",
   "execution_count": 79,
   "metadata": {
    "vscode": {
     "languageId": "r"
    }
   },
   "outputs": [],
   "source": [
    "# Fit the VAR model\n",
    "var_model <- VAR(data, p = optimal_lag)"
   ]
  },
  {
   "cell_type": "code",
   "execution_count": 80,
   "metadata": {
    "vscode": {
     "languageId": "r"
    }
   },
   "outputs": [
    {
     "name": "stdout",
     "output_type": "stream",
     "text": [
      "\n",
      "Call:\n",
      "lm(formula = y ~ -1 + ., data = datamat)\n",
      "\n",
      "Residuals:\n",
      "    Min      1Q  Median      3Q     Max \n",
      "-5.6671 -0.6499  0.3445  0.3541  1.4066 \n",
      "\n",
      "Coefficients:\n",
      "                           Estimate Std. Error t value Pr(>|t|)    \n",
      "Dis_Mag_Value.l1          5.185e-03  1.027e-01   0.050    0.960    \n",
      "nombre_total_de_deces.l1  5.259e-06  4.425e-06   1.188    0.237    \n",
      "Total_Affecte.l1         -3.195e-09  1.670e-07  -0.019    0.985    \n",
      "Total_des_dommages.l1    -1.835e-08  4.965e-08  -0.370    0.712    \n",
      "const                     6.619e+00  6.871e-01   9.633 5.28e-16 ***\n",
      "---\n",
      "Signif. codes:  0 '***' 0.001 '**' 0.01 '*' 0.05 '.' 0.1 ' ' 1\n",
      "\n",
      "Residual standard error: 1.049 on 102 degrees of freedom\n",
      "Multiple R-squared:  0.01471,\tAdjusted R-squared:  -0.02393 \n",
      "F-statistic: 0.3807 on 4 and 102 DF,  p-value: 0.822\n",
      "\n"
     ]
    }
   ],
   "source": [
    "# Extract and print the results for Dis_Mag_Value\n",
    "dis_mag_value_results <- summary(var_model)$varresult$Dis_Mag_Value\n",
    "print(dis_mag_value_results)"
   ]
  },
  {
   "cell_type": "markdown",
   "metadata": {},
   "source": [
    "### **Interprétation des résultats pour Dis_Mag_Value**\n",
    "\n",
    "- **Résidus :**\n",
    "    - La médiane est proche de zéro, ce qui indique une distribution centrée.\n",
    "    - Cependant, les valeurs minimales et maximales (-5.6671 à 1.4066) montrent une dispersion importante.\n",
    "\n",
    "- **Coefficients :**\n",
    "    - **Dis_Mag_Value.l1 :** Estimate de 0.005, non significatif (p = 0.960).\n",
    "    - **nombre_total_de_deces.l1 :** Effet positif faible (5.259e-06), non significatif (p = 0.237).\n",
    "    - **Total_Affecte.l1 :** Effet négatif quasi nul (-3.195e-09), non significatif (p = 0.985).\n",
    "    - **Total_des_dommages.l1 :** Effet négatif faible (-1.835e-08), non significatif (p = 0.712).\n",
    "    - **Constante :** Estimation de 6.619, significative (p < 0.001).\n",
    "\n",
    "- **R² multiple :** Faible (0.01471), indiquant que le modèle explique très peu de la variabilité.\n",
    "\n",
    "- **F-statistic :** Non significative (p = 0.822), montrant une faible qualité d'ajustement global.\n",
    "\n",
    "- **Conclusion :** Les variables explicatives n'ont pas d'effet significatif sur Dis_Mag_Value dans ce modèle."
   ]
  },
  {
   "cell_type": "code",
   "execution_count": 82,
   "metadata": {
    "vscode": {
     "languageId": "r"
    }
   },
   "outputs": [],
   "source": [
    "# Extract the sub-model for Dis_Mag_Value\n",
    "dis_mag_value_model <- var_model$varresult$Dis_Mag_Value"
   ]
  },
  {
   "cell_type": "markdown",
   "metadata": {},
   "source": [
    "### Les Tests d'hypotheses"
   ]
  },
  {
   "cell_type": "code",
   "execution_count": 83,
   "metadata": {
    "vscode": {
     "languageId": "r"
    }
   },
   "outputs": [
    {
     "name": "stdout",
     "output_type": "stream",
     "text": [
      "[1] \"Rainbow test p-value: 0.932051836098646\"\n"
     ]
    }
   ],
   "source": [
    "# 1. Rainbow test\n",
    "raintest_result <- raintest(dis_mag_value_model)\n",
    "print(paste(\"Rainbow test p-value:\", raintest_result$p.value))"
   ]
  },
  {
   "cell_type": "markdown",
   "metadata": {},
   "source": [
    "### Test d'indépendance entre (Dis_Mag_Value) et (e) (Test de Rainbow)\n",
    "- **Hypothèse nulle (H₀)** : indépendance entre (Dis_Mag_Value) et (e)  \n",
    "- **Hypothèse alternative (H₁)** : dépendance entre (Dis_Mag_Value) et (e)  \n",
    "- **Résultat** : p-value = 0.932, on accepte (H₀)."
   ]
  },
  {
   "cell_type": "code",
   "execution_count": 84,
   "metadata": {
    "vscode": {
     "languageId": "r"
    }
   },
   "outputs": [
    {
     "name": "stdout",
     "output_type": "stream",
     "text": [
      "[1] \"Durbin-Watson test p-value: 0.468730216413237\"\n"
     ]
    }
   ],
   "source": [
    "# 2. Durbin-Watson test\n",
    "dwtest_result <- dwtest(dis_mag_value_model)\n",
    "print(paste(\"Durbin-Watson test p-value:\", dwtest_result$p.value))"
   ]
  },
  {
   "cell_type": "markdown",
   "metadata": {},
   "source": [
    "### Test d'autocorrélation des erreurs (Test de Durbin-Watson)\n",
    "- **Hypothèse nulle (H₀)** : pas d'autocorrélation des résidus  \n",
    "- **Hypothèse alternative (H₁)** : autocorrélation des résidus  \n",
    "- **Résultat** : p-value = 0.469, on accepte (H₀)."
   ]
  },
  {
   "cell_type": "code",
   "execution_count": 85,
   "metadata": {
    "vscode": {
     "languageId": "r"
    }
   },
   "outputs": [
    {
     "name": "stdout",
     "output_type": "stream",
     "text": [
      "[1] \"Breusch-Pagan test p-value: 0.964666536921155\"\n"
     ]
    }
   ],
   "source": [
    "# 3. Breusch-Pagan test\n",
    "bptest_result <- bptest(dis_mag_value_model)\n",
    "print(paste(\"Breusch-Pagan test p-value:\", bptest_result$p.value))"
   ]
  },
  {
   "cell_type": "markdown",
   "metadata": {},
   "source": [
    "### Test d'hétéroscédasticité des résidus (Test de Breusch-Pagan)\n",
    "- **Hypothèse nulle (H₀)** : homoscédasticité des résidus  \n",
    "- **Hypothèse alternative (H₁)** : hétéroscédasticité des résidus  \n",
    "- **Résultat** : p-value = 0.965, on accepte (H₀)."
   ]
  },
  {
   "cell_type": "code",
   "execution_count": 86,
   "metadata": {
    "vscode": {
     "languageId": "r"
    }
   },
   "outputs": [
    {
     "name": "stdout",
     "output_type": "stream",
     "text": [
      "[1] \"Shapiro-Wilk test p-value: 4.75397851162783e-10\"\n"
     ]
    }
   ],
   "source": [
    "# 4. Shapiro-Wilk test for normality of residuals\n",
    "shapiro_test_result <- shapiro.test(residuals(dis_mag_value_model))\n",
    "print(paste(\"Shapiro-Wilk test p-value:\", shapiro_test_result$p.value))"
   ]
  },
  {
   "cell_type": "markdown",
   "metadata": {},
   "source": [
    "### Test de normalité des résidus (Test de Shapiro-Wilk)\n",
    "- **Hypothèse nulle (H₀)** : normalité des résidus  \n",
    "- **Hypothèse alternative (H₁)** : non normalité des résidus  \n",
    "- **Résultat** : p-value = 4.75e-10, on rejette (H₀)."
   ]
  }
 ],
 "metadata": {
  "kernelspec": {
   "display_name": "R",
   "language": "R",
   "name": "ir"
  },
  "language_info": {
   "codemirror_mode": "r",
   "file_extension": ".r",
   "mimetype": "text/x-r-source",
   "name": "R",
   "pygments_lexer": "r",
   "version": "4.4.1"
  }
 },
 "nbformat": 4,
 "nbformat_minor": 2
}
