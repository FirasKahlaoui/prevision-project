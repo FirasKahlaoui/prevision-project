{
 "cells": [
  {
   "cell_type": "markdown",
   "metadata": {},
   "source": [
    "# Exercice 1 \n",
    "### Firas Kahlaoui 3 BD 1"
   ]
  },
  {
   "cell_type": "code",
   "execution_count": 10,
   "metadata": {
    "vscode": {
     "languageId": "r"
    }
   },
   "outputs": [],
   "source": [
    "library(readxl)\n",
    "library(nnet)"
   ]
  },
  {
   "cell_type": "code",
   "execution_count": 11,
   "metadata": {
    "vscode": {
     "languageId": "r"
    }
   },
   "outputs": [
    {
     "data": {
      "text/html": [
       "<table class=\"dataframe\">\n",
       "<caption>A tibble: 6 × 5</caption>\n",
       "<thead>\n",
       "\t<tr><th scope=col>Continente</th><th scope=col>Dis_Mag_Value</th><th scope=col>nombre_total_de_deces</th><th scope=col>Total_Affecte</th><th scope=col>Total_des_dommages</th></tr>\n",
       "\t<tr><th scope=col>&lt;dbl&gt;</th><th scope=col>&lt;dbl&gt;</th><th scope=col>&lt;dbl&gt;</th><th scope=col>&lt;dbl&gt;</th><th scope=col>&lt;dbl&gt;</th></tr>\n",
       "</thead>\n",
       "<tbody>\n",
       "\t<tr><td>2</td><td>8</td><td>  12</td><td>    40</td><td>500000</td></tr>\n",
       "\t<tr><td>3</td><td>7</td><td> 476</td><td>141277</td><td>100000</td></tr>\n",
       "\t<tr><td>2</td><td>7</td><td>   3</td><td>    15</td><td>  7310</td></tr>\n",
       "\t<tr><td>4</td><td>7</td><td>1250</td><td>134250</td><td>  6000</td></tr>\n",
       "\t<tr><td>3</td><td>7</td><td>  31</td><td>   200</td><td>  3150</td></tr>\n",
       "\t<tr><td>1</td><td>8</td><td> 100</td><td>  2000</td><td> 25000</td></tr>\n",
       "</tbody>\n",
       "</table>\n"
      ],
      "text/latex": [
       "A tibble: 6 × 5\n",
       "\\begin{tabular}{lllll}\n",
       " Continente & Dis\\_Mag\\_Value & nombre\\_total\\_de\\_deces & Total\\_Affecte & Total\\_des\\_dommages\\\\\n",
       " <dbl> & <dbl> & <dbl> & <dbl> & <dbl>\\\\\n",
       "\\hline\n",
       "\t 2 & 8 &   12 &     40 & 500000\\\\\n",
       "\t 3 & 7 &  476 & 141277 & 100000\\\\\n",
       "\t 2 & 7 &    3 &     15 &   7310\\\\\n",
       "\t 4 & 7 & 1250 & 134250 &   6000\\\\\n",
       "\t 3 & 7 &   31 &    200 &   3150\\\\\n",
       "\t 1 & 8 &  100 &   2000 &  25000\\\\\n",
       "\\end{tabular}\n"
      ],
      "text/markdown": [
       "\n",
       "A tibble: 6 × 5\n",
       "\n",
       "| Continente &lt;dbl&gt; | Dis_Mag_Value &lt;dbl&gt; | nombre_total_de_deces &lt;dbl&gt; | Total_Affecte &lt;dbl&gt; | Total_des_dommages &lt;dbl&gt; |\n",
       "|---|---|---|---|---|\n",
       "| 2 | 8 |   12 |     40 | 500000 |\n",
       "| 3 | 7 |  476 | 141277 | 100000 |\n",
       "| 2 | 7 |    3 |     15 |   7310 |\n",
       "| 4 | 7 | 1250 | 134250 |   6000 |\n",
       "| 3 | 7 |   31 |    200 |   3150 |\n",
       "| 1 | 8 |  100 |   2000 |  25000 |\n",
       "\n"
      ],
      "text/plain": [
       "  Continente Dis_Mag_Value nombre_total_de_deces Total_Affecte\n",
       "1 2          8               12                      40       \n",
       "2 3          7              476                  141277       \n",
       "3 2          7                3                      15       \n",
       "4 4          7             1250                  134250       \n",
       "5 3          7               31                     200       \n",
       "6 1          8              100                    2000       \n",
       "  Total_des_dommages\n",
       "1 500000            \n",
       "2 100000            \n",
       "3   7310            \n",
       "4   6000            \n",
       "5   3150            \n",
       "6  25000            "
      ]
     },
     "metadata": {},
     "output_type": "display_data"
    },
    {
     "name": "stdout",
     "output_type": "stream",
     "text": [
      "tibble [108 × 5] (S3: tbl_df/tbl/data.frame)\n",
      " $ Continente           : num [1:108] 2 3 2 4 3 1 2 4 3 2 ...\n",
      " $ Dis_Mag_Value        : num [1:108] 8 7 7 7 7 8 7 6 6 8 ...\n",
      " $ nombre_total_de_deces: num [1:108] 12 476 3 1250 31 100 400 2 38 4 ...\n",
      " $ Total_Affecte        : num [1:108] 40 141277 15 134250 200 ...\n",
      " $ Total_des_dommages   : num [1:108] 500000 100000 7310 6000 3150 25000 125000 2000 8000 400 ...\n"
     ]
    }
   ],
   "source": [
    "# Read the Excel file\n",
    "data <- read_excel(\"./data/exercice2.xlsx\")\n",
    "# Display the first few rows of the data\n",
    "head(data)\n",
    "str(data)"
   ]
  },
  {
   "cell_type": "markdown",
   "metadata": {},
   "source": [
    "## Expliquer la variable continente"
   ]
  },
  {
   "cell_type": "code",
   "execution_count": 13,
   "metadata": {
    "vscode": {
     "languageId": "r"
    }
   },
   "outputs": [
    {
     "name": "stdout",
     "output_type": "stream",
     "text": [
      "# weights:  30 (20 variable)\n"
     ]
    },
    {
     "name": "stdout",
     "output_type": "stream",
     "text": [
      "initial  value 173.819295 \n",
      "iter  10 value 165.148541\n",
      "iter  20 value 131.900368\n",
      "iter  30 value 125.614527\n",
      "iter  40 value 125.098755\n",
      "iter  50 value 124.569999\n",
      "iter  60 value 123.846741\n",
      "iter  70 value 122.842655\n",
      "iter  80 value 122.716010\n",
      "final  value 122.714668 \n",
      "converged\n"
     ]
    },
    {
     "data": {
      "text/plain": [
       "Call:\n",
       "multinom(formula = Continente ~ Dis_Mag_Value + nombre_total_de_deces + \n",
       "    Total_Affecte + Total_des_dommages, data = data)\n",
       "\n",
       "Coefficients:\n",
       "  (Intercept) Dis_Mag_Value nombre_total_de_deces Total_Affecte\n",
       "2   -4.807929     0.6177011         -3.017864e-05  9.305018e-07\n",
       "3    5.326481    -0.9018543         -3.933559e-04  1.298160e-06\n",
       "4    7.680986    -1.4427079         -1.203217e-05  1.060519e-06\n",
       "5   -6.456925     0.8655634         -2.439808e-02 -1.408477e-04\n",
       "  Total_des_dommages\n",
       "2       4.043856e-07\n",
       "3       2.230761e-07\n",
       "4       2.370130e-07\n",
       "5      -1.795839e-04\n",
       "\n",
       "Std. Errors:\n",
       "   (Intercept) Dis_Mag_Value nombre_total_de_deces Total_Affecte\n",
       "2 3.457665e-08  2.398805e-07          3.356182e-05  7.155007e-07\n",
       "3 9.207998e-08  6.071898e-07          3.224619e-04  1.013857e-06\n",
       "4 1.374329e-08  8.091810e-08          4.799140e-05  1.007641e-06\n",
       "5 3.854395e-08  2.675433e-07          4.320014e-07  2.195122e-04\n",
       "  Total_des_dommages\n",
       "2       3.148590e-07\n",
       "3       3.271382e-07\n",
       "4       3.320683e-07\n",
       "5       2.530911e-04\n",
       "\n",
       "Residual Deviance: 245.4293 \n",
       "AIC: 285.4293 "
      ]
     },
     "metadata": {},
     "output_type": "display_data"
    }
   ],
   "source": [
    "model <- multinom(Continente ~ Dis_Mag_Value + nombre_total_de_deces\n",
    "                  + Total_Affecte + Total_des_dommages, data = data)\n",
    "\n",
    "summary(model)"
   ]
  },
  {
   "cell_type": "markdown",
   "metadata": {},
   "source": [
    "### Interprétation du modèle\n",
    "\n",
    "- **Dis Mag Value** : Le coefficient pour \"Dis Mag Value\" est positif pour la classe 2, négatif pour les classes 3 et 4. Cela suggère que \"Dis Mag Value\" a une influence variable sur \"Continente\", affectant positivement certaines classes et négativement d'autres.\n",
    "- **Nombre total de décès** : Le coefficient est très faible pour toutes les classes, indiquant une influence marginale de cette variable sur \"Continente\".\n",
    "- **Total Affecté** : Le coefficient est très faible, mais légèrement positif pour la classe 2 et négatif pour la classe 5, ce qui suggère une influence faible mais présente sur \"Continente\".\n",
    "- **Total des dommages** : Les coefficients sont proches de zéro, ce qui indique une faible influence sur \"Continente\" pour cette variable."
   ]
  }
 ],
 "metadata": {
  "kernelspec": {
   "display_name": "R",
   "language": "R",
   "name": "ir"
  },
  "language_info": {
   "codemirror_mode": "r",
   "file_extension": ".r",
   "mimetype": "text/x-r-source",
   "name": "R",
   "pygments_lexer": "r",
   "version": "4.4.1"
  }
 },
 "nbformat": 4,
 "nbformat_minor": 2
}
