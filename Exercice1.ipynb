{
 "cells": [
  {
   "cell_type": "code",
   "execution_count": 20,
   "metadata": {
    "vscode": {
     "languageId": "r"
    }
   },
   "outputs": [
    {
     "data": {
      "text/html": [
       "<table class=\"dataframe\">\n",
       "<caption>A tibble: 6 × 24</caption>\n",
       "<thead>\n",
       "\t<tr><th scope=col>ID</th><th scope=col>sexe</th><th scope=col>Region</th><th scope=col>Age</th><th scope=col>etat_civil</th><th scope=col>N_educatif</th><th scope=col>Membre_famille</th><th scope=col>Revenu_famille</th><th scope=col>Revenu_Mensuelle</th><th scope=col>Redoublant</th><th scope=col>⋯</th><th scope=col>Niveau_educ_pere</th><th scope=col>Niveau_educ_mere</th><th scope=col>Sign_ecole</th><th scope=col>Endroit_freq</th><th scope=col>Ph_famille</th><th scope=col>Ricule_Prof</th><th scope=col>Ricule_collegue</th><th scope=col>Sensation_apres_ecole</th><th scope=col>Apres_repture_ecole</th><th scope=col>Violence</th></tr>\n",
       "\t<tr><th scope=col>&lt;dbl&gt;</th><th scope=col>&lt;dbl&gt;</th><th scope=col>&lt;dbl&gt;</th><th scope=col>&lt;dbl&gt;</th><th scope=col>&lt;dbl&gt;</th><th scope=col>&lt;dbl&gt;</th><th scope=col>&lt;dbl&gt;</th><th scope=col>&lt;dbl&gt;</th><th scope=col>&lt;dbl&gt;</th><th scope=col>&lt;dbl&gt;</th><th scope=col>⋯</th><th scope=col>&lt;dbl&gt;</th><th scope=col>&lt;dbl&gt;</th><th scope=col>&lt;dbl&gt;</th><th scope=col>&lt;dbl&gt;</th><th scope=col>&lt;dbl&gt;</th><th scope=col>&lt;dbl&gt;</th><th scope=col>&lt;dbl&gt;</th><th scope=col>&lt;dbl&gt;</th><th scope=col>&lt;dbl&gt;</th><th scope=col>&lt;dbl&gt;</th></tr>\n",
       "</thead>\n",
       "<tbody>\n",
       "\t<tr><td>1</td><td>0</td><td>1</td><td>2</td><td>1</td><td>3</td><td> 5</td><td>0</td><td>  0</td><td>1</td><td>⋯</td><td>2</td><td>2</td><td>1</td><td>1</td><td>1</td><td>0</td><td>1</td><td>1</td><td>1</td><td>1</td></tr>\n",
       "\t<tr><td>2</td><td>0</td><td>1</td><td>4</td><td>2</td><td>3</td><td> 5</td><td>0</td><td>  0</td><td>1</td><td>⋯</td><td>2</td><td>1</td><td>1</td><td>2</td><td>2</td><td>1</td><td>1</td><td>1</td><td>1</td><td>1</td></tr>\n",
       "\t<tr><td>3</td><td>0</td><td>1</td><td>4</td><td>2</td><td>3</td><td>11</td><td>0</td><td>100</td><td>1</td><td>⋯</td><td>2</td><td>1</td><td>2</td><td>1</td><td>3</td><td>0</td><td>0</td><td>1</td><td>2</td><td>0</td></tr>\n",
       "\t<tr><td>5</td><td>0</td><td>1</td><td>3</td><td>2</td><td>3</td><td> 4</td><td>0</td><td>  0</td><td>1</td><td>⋯</td><td>1</td><td>1</td><td>1</td><td>1</td><td>2</td><td>1</td><td>1</td><td>3</td><td>3</td><td>1</td></tr>\n",
       "\t<tr><td>8</td><td>0</td><td>1</td><td>1</td><td>1</td><td>3</td><td> 5</td><td>1</td><td>  0</td><td>1</td><td>⋯</td><td>3</td><td>3</td><td>3</td><td>4</td><td>4</td><td>0</td><td>0</td><td>3</td><td>2</td><td>1</td></tr>\n",
       "\t<tr><td>9</td><td>0</td><td>1</td><td>4</td><td>3</td><td>3</td><td> 4</td><td>1</td><td>100</td><td>0</td><td>⋯</td><td>2</td><td>3</td><td>4</td><td>1</td><td>4</td><td>1</td><td>1</td><td>1</td><td>2</td><td>0</td></tr>\n",
       "</tbody>\n",
       "</table>\n"
      ],
      "text/latex": [
       "A tibble: 6 × 24\n",
       "\\begin{tabular}{lllllllllllllllllllll}\n",
       " ID & sexe & Region & Age & etat\\_civil & N\\_educatif & Membre\\_famille & Revenu\\_famille & Revenu\\_Mensuelle & Redoublant & ⋯ & Niveau\\_educ\\_pere & Niveau\\_educ\\_mere & Sign\\_ecole & Endroit\\_freq & Ph\\_famille & Ricule\\_Prof & Ricule\\_collegue & Sensation\\_apres\\_ecole & Apres\\_repture\\_ecole & Violence\\\\\n",
       " <dbl> & <dbl> & <dbl> & <dbl> & <dbl> & <dbl> & <dbl> & <dbl> & <dbl> & <dbl> & ⋯ & <dbl> & <dbl> & <dbl> & <dbl> & <dbl> & <dbl> & <dbl> & <dbl> & <dbl> & <dbl>\\\\\n",
       "\\hline\n",
       "\t 1 & 0 & 1 & 2 & 1 & 3 &  5 & 0 &   0 & 1 & ⋯ & 2 & 2 & 1 & 1 & 1 & 0 & 1 & 1 & 1 & 1\\\\\n",
       "\t 2 & 0 & 1 & 4 & 2 & 3 &  5 & 0 &   0 & 1 & ⋯ & 2 & 1 & 1 & 2 & 2 & 1 & 1 & 1 & 1 & 1\\\\\n",
       "\t 3 & 0 & 1 & 4 & 2 & 3 & 11 & 0 & 100 & 1 & ⋯ & 2 & 1 & 2 & 1 & 3 & 0 & 0 & 1 & 2 & 0\\\\\n",
       "\t 5 & 0 & 1 & 3 & 2 & 3 &  4 & 0 &   0 & 1 & ⋯ & 1 & 1 & 1 & 1 & 2 & 1 & 1 & 3 & 3 & 1\\\\\n",
       "\t 8 & 0 & 1 & 1 & 1 & 3 &  5 & 1 &   0 & 1 & ⋯ & 3 & 3 & 3 & 4 & 4 & 0 & 0 & 3 & 2 & 1\\\\\n",
       "\t 9 & 0 & 1 & 4 & 3 & 3 &  4 & 1 & 100 & 0 & ⋯ & 2 & 3 & 4 & 1 & 4 & 1 & 1 & 1 & 2 & 0\\\\\n",
       "\\end{tabular}\n"
      ],
      "text/markdown": [
       "\n",
       "A tibble: 6 × 24\n",
       "\n",
       "| ID &lt;dbl&gt; | sexe &lt;dbl&gt; | Region &lt;dbl&gt; | Age &lt;dbl&gt; | etat_civil &lt;dbl&gt; | N_educatif &lt;dbl&gt; | Membre_famille &lt;dbl&gt; | Revenu_famille &lt;dbl&gt; | Revenu_Mensuelle &lt;dbl&gt; | Redoublant &lt;dbl&gt; | ⋯ ⋯ | Niveau_educ_pere &lt;dbl&gt; | Niveau_educ_mere &lt;dbl&gt; | Sign_ecole &lt;dbl&gt; | Endroit_freq &lt;dbl&gt; | Ph_famille &lt;dbl&gt; | Ricule_Prof &lt;dbl&gt; | Ricule_collegue &lt;dbl&gt; | Sensation_apres_ecole &lt;dbl&gt; | Apres_repture_ecole &lt;dbl&gt; | Violence &lt;dbl&gt; |\n",
       "|---|---|---|---|---|---|---|---|---|---|---|---|---|---|---|---|---|---|---|---|---|\n",
       "| 1 | 0 | 1 | 2 | 1 | 3 |  5 | 0 |   0 | 1 | ⋯ | 2 | 2 | 1 | 1 | 1 | 0 | 1 | 1 | 1 | 1 |\n",
       "| 2 | 0 | 1 | 4 | 2 | 3 |  5 | 0 |   0 | 1 | ⋯ | 2 | 1 | 1 | 2 | 2 | 1 | 1 | 1 | 1 | 1 |\n",
       "| 3 | 0 | 1 | 4 | 2 | 3 | 11 | 0 | 100 | 1 | ⋯ | 2 | 1 | 2 | 1 | 3 | 0 | 0 | 1 | 2 | 0 |\n",
       "| 5 | 0 | 1 | 3 | 2 | 3 |  4 | 0 |   0 | 1 | ⋯ | 1 | 1 | 1 | 1 | 2 | 1 | 1 | 3 | 3 | 1 |\n",
       "| 8 | 0 | 1 | 1 | 1 | 3 |  5 | 1 |   0 | 1 | ⋯ | 3 | 3 | 3 | 4 | 4 | 0 | 0 | 3 | 2 | 1 |\n",
       "| 9 | 0 | 1 | 4 | 3 | 3 |  4 | 1 | 100 | 0 | ⋯ | 2 | 3 | 4 | 1 | 4 | 1 | 1 | 1 | 2 | 0 |\n",
       "\n"
      ],
      "text/plain": [
       "  ID sexe Region Age etat_civil N_educatif Membre_famille Revenu_famille\n",
       "1 1  0    1      2   1          3           5             0             \n",
       "2 2  0    1      4   2          3           5             0             \n",
       "3 3  0    1      4   2          3          11             0             \n",
       "4 5  0    1      3   2          3           4             0             \n",
       "5 8  0    1      1   1          3           5             1             \n",
       "6 9  0    1      4   3          3           4             1             \n",
       "  Revenu_Mensuelle Redoublant ⋯ Niveau_educ_pere Niveau_educ_mere Sign_ecole\n",
       "1   0              1          ⋯ 2                2                1         \n",
       "2   0              1          ⋯ 2                1                1         \n",
       "3 100              1          ⋯ 2                1                2         \n",
       "4   0              1          ⋯ 1                1                1         \n",
       "5   0              1          ⋯ 3                3                3         \n",
       "6 100              0          ⋯ 2                3                4         \n",
       "  Endroit_freq Ph_famille Ricule_Prof Ricule_collegue Sensation_apres_ecole\n",
       "1 1            1          0           1               1                    \n",
       "2 2            2          1           1               1                    \n",
       "3 1            3          0           0               1                    \n",
       "4 1            2          1           1               3                    \n",
       "5 4            4          0           0               3                    \n",
       "6 1            4          1           1               1                    \n",
       "  Apres_repture_ecole Violence\n",
       "1 1                   1       \n",
       "2 1                   1       \n",
       "3 2                   0       \n",
       "4 3                   1       \n",
       "5 2                   1       \n",
       "6 2                   0       "
      ]
     },
     "metadata": {},
     "output_type": "display_data"
    }
   ],
   "source": [
    "library(tidyverse)\n",
    "library(readxl)\n",
    "\n",
    "# Read the Excel file\n",
    "data <- read_excel(\"./data/exercice1.xlsx\")\n",
    "\n",
    "# Display the first few rows of the data\n",
    "head(data)"
   ]
  }
 ],
 "metadata": {
  "language_info": {
   "name": "python"
  }
 },
 "nbformat": 4,
 "nbformat_minor": 2
}
