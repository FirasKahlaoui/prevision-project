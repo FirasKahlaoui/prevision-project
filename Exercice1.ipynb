{
 "cells": [
  {
   "cell_type": "code",
   "execution_count": 72,
   "metadata": {
    "vscode": {
     "languageId": "r"
    }
   },
   "outputs": [],
   "source": [
    "library(readxl)\n",
    "library(tidyverse)\n",
    "library(nnet)\n",
    "library(lmtest)"
   ]
  },
  {
   "cell_type": "code",
   "execution_count": 73,
   "metadata": {
    "vscode": {
     "languageId": "r"
    }
   },
   "outputs": [
    {
     "data": {
      "text/html": [
       "<table class=\"dataframe\">\n",
       "<caption>A tibble: 6 × 24</caption>\n",
       "<thead>\n",
       "\t<tr><th scope=col>ID</th><th scope=col>sexe</th><th scope=col>Region</th><th scope=col>Age</th><th scope=col>etat_civil</th><th scope=col>N_educatif</th><th scope=col>Membre_famille</th><th scope=col>Revenu_famille</th><th scope=col>Revenu_Mensuelle</th><th scope=col>Redoublant</th><th scope=col>⋯</th><th scope=col>Niveau_educ_pere</th><th scope=col>Niveau_educ_mere</th><th scope=col>Sign_ecole</th><th scope=col>Endroit_freq</th><th scope=col>Ph_famille</th><th scope=col>Ricule_Prof</th><th scope=col>Ricule_collegue</th><th scope=col>Sensation_apres_ecole</th><th scope=col>Apres_repture_ecole</th><th scope=col>Violence</th></tr>\n",
       "\t<tr><th scope=col>&lt;dbl&gt;</th><th scope=col>&lt;dbl&gt;</th><th scope=col>&lt;dbl&gt;</th><th scope=col>&lt;dbl&gt;</th><th scope=col>&lt;dbl&gt;</th><th scope=col>&lt;dbl&gt;</th><th scope=col>&lt;dbl&gt;</th><th scope=col>&lt;dbl&gt;</th><th scope=col>&lt;dbl&gt;</th><th scope=col>&lt;dbl&gt;</th><th scope=col>⋯</th><th scope=col>&lt;dbl&gt;</th><th scope=col>&lt;dbl&gt;</th><th scope=col>&lt;dbl&gt;</th><th scope=col>&lt;dbl&gt;</th><th scope=col>&lt;dbl&gt;</th><th scope=col>&lt;dbl&gt;</th><th scope=col>&lt;dbl&gt;</th><th scope=col>&lt;dbl&gt;</th><th scope=col>&lt;dbl&gt;</th><th scope=col>&lt;dbl&gt;</th></tr>\n",
       "</thead>\n",
       "<tbody>\n",
       "\t<tr><td>1</td><td>0</td><td>1</td><td>2</td><td>1</td><td>3</td><td> 5</td><td>0</td><td>  0</td><td>1</td><td>⋯</td><td>2</td><td>2</td><td>1</td><td>1</td><td>1</td><td>0</td><td>1</td><td>1</td><td>1</td><td>1</td></tr>\n",
       "\t<tr><td>2</td><td>0</td><td>1</td><td>4</td><td>2</td><td>3</td><td> 5</td><td>0</td><td>  0</td><td>1</td><td>⋯</td><td>2</td><td>1</td><td>1</td><td>2</td><td>2</td><td>1</td><td>1</td><td>1</td><td>1</td><td>1</td></tr>\n",
       "\t<tr><td>3</td><td>0</td><td>1</td><td>4</td><td>2</td><td>3</td><td>11</td><td>0</td><td>100</td><td>1</td><td>⋯</td><td>2</td><td>1</td><td>2</td><td>1</td><td>3</td><td>0</td><td>0</td><td>1</td><td>2</td><td>0</td></tr>\n",
       "\t<tr><td>5</td><td>0</td><td>1</td><td>3</td><td>2</td><td>3</td><td> 4</td><td>0</td><td>  0</td><td>1</td><td>⋯</td><td>1</td><td>1</td><td>1</td><td>1</td><td>2</td><td>1</td><td>1</td><td>3</td><td>3</td><td>1</td></tr>\n",
       "\t<tr><td>8</td><td>0</td><td>1</td><td>1</td><td>1</td><td>3</td><td> 5</td><td>1</td><td>  0</td><td>1</td><td>⋯</td><td>3</td><td>3</td><td>3</td><td>4</td><td>4</td><td>0</td><td>0</td><td>3</td><td>2</td><td>1</td></tr>\n",
       "\t<tr><td>9</td><td>0</td><td>1</td><td>4</td><td>3</td><td>3</td><td> 4</td><td>1</td><td>100</td><td>0</td><td>⋯</td><td>2</td><td>3</td><td>4</td><td>1</td><td>4</td><td>1</td><td>1</td><td>1</td><td>2</td><td>0</td></tr>\n",
       "</tbody>\n",
       "</table>\n"
      ],
      "text/latex": [
       "A tibble: 6 × 24\n",
       "\\begin{tabular}{lllllllllllllllllllll}\n",
       " ID & sexe & Region & Age & etat\\_civil & N\\_educatif & Membre\\_famille & Revenu\\_famille & Revenu\\_Mensuelle & Redoublant & ⋯ & Niveau\\_educ\\_pere & Niveau\\_educ\\_mere & Sign\\_ecole & Endroit\\_freq & Ph\\_famille & Ricule\\_Prof & Ricule\\_collegue & Sensation\\_apres\\_ecole & Apres\\_repture\\_ecole & Violence\\\\\n",
       " <dbl> & <dbl> & <dbl> & <dbl> & <dbl> & <dbl> & <dbl> & <dbl> & <dbl> & <dbl> & ⋯ & <dbl> & <dbl> & <dbl> & <dbl> & <dbl> & <dbl> & <dbl> & <dbl> & <dbl> & <dbl>\\\\\n",
       "\\hline\n",
       "\t 1 & 0 & 1 & 2 & 1 & 3 &  5 & 0 &   0 & 1 & ⋯ & 2 & 2 & 1 & 1 & 1 & 0 & 1 & 1 & 1 & 1\\\\\n",
       "\t 2 & 0 & 1 & 4 & 2 & 3 &  5 & 0 &   0 & 1 & ⋯ & 2 & 1 & 1 & 2 & 2 & 1 & 1 & 1 & 1 & 1\\\\\n",
       "\t 3 & 0 & 1 & 4 & 2 & 3 & 11 & 0 & 100 & 1 & ⋯ & 2 & 1 & 2 & 1 & 3 & 0 & 0 & 1 & 2 & 0\\\\\n",
       "\t 5 & 0 & 1 & 3 & 2 & 3 &  4 & 0 &   0 & 1 & ⋯ & 1 & 1 & 1 & 1 & 2 & 1 & 1 & 3 & 3 & 1\\\\\n",
       "\t 8 & 0 & 1 & 1 & 1 & 3 &  5 & 1 &   0 & 1 & ⋯ & 3 & 3 & 3 & 4 & 4 & 0 & 0 & 3 & 2 & 1\\\\\n",
       "\t 9 & 0 & 1 & 4 & 3 & 3 &  4 & 1 & 100 & 0 & ⋯ & 2 & 3 & 4 & 1 & 4 & 1 & 1 & 1 & 2 & 0\\\\\n",
       "\\end{tabular}\n"
      ],
      "text/markdown": [
       "\n",
       "A tibble: 6 × 24\n",
       "\n",
       "| ID &lt;dbl&gt; | sexe &lt;dbl&gt; | Region &lt;dbl&gt; | Age &lt;dbl&gt; | etat_civil &lt;dbl&gt; | N_educatif &lt;dbl&gt; | Membre_famille &lt;dbl&gt; | Revenu_famille &lt;dbl&gt; | Revenu_Mensuelle &lt;dbl&gt; | Redoublant &lt;dbl&gt; | ⋯ ⋯ | Niveau_educ_pere &lt;dbl&gt; | Niveau_educ_mere &lt;dbl&gt; | Sign_ecole &lt;dbl&gt; | Endroit_freq &lt;dbl&gt; | Ph_famille &lt;dbl&gt; | Ricule_Prof &lt;dbl&gt; | Ricule_collegue &lt;dbl&gt; | Sensation_apres_ecole &lt;dbl&gt; | Apres_repture_ecole &lt;dbl&gt; | Violence &lt;dbl&gt; |\n",
       "|---|---|---|---|---|---|---|---|---|---|---|---|---|---|---|---|---|---|---|---|---|\n",
       "| 1 | 0 | 1 | 2 | 1 | 3 |  5 | 0 |   0 | 1 | ⋯ | 2 | 2 | 1 | 1 | 1 | 0 | 1 | 1 | 1 | 1 |\n",
       "| 2 | 0 | 1 | 4 | 2 | 3 |  5 | 0 |   0 | 1 | ⋯ | 2 | 1 | 1 | 2 | 2 | 1 | 1 | 1 | 1 | 1 |\n",
       "| 3 | 0 | 1 | 4 | 2 | 3 | 11 | 0 | 100 | 1 | ⋯ | 2 | 1 | 2 | 1 | 3 | 0 | 0 | 1 | 2 | 0 |\n",
       "| 5 | 0 | 1 | 3 | 2 | 3 |  4 | 0 |   0 | 1 | ⋯ | 1 | 1 | 1 | 1 | 2 | 1 | 1 | 3 | 3 | 1 |\n",
       "| 8 | 0 | 1 | 1 | 1 | 3 |  5 | 1 |   0 | 1 | ⋯ | 3 | 3 | 3 | 4 | 4 | 0 | 0 | 3 | 2 | 1 |\n",
       "| 9 | 0 | 1 | 4 | 3 | 3 |  4 | 1 | 100 | 0 | ⋯ | 2 | 3 | 4 | 1 | 4 | 1 | 1 | 1 | 2 | 0 |\n",
       "\n"
      ],
      "text/plain": [
       "  ID sexe Region Age etat_civil N_educatif Membre_famille Revenu_famille\n",
       "1 1  0    1      2   1          3           5             0             \n",
       "2 2  0    1      4   2          3           5             0             \n",
       "3 3  0    1      4   2          3          11             0             \n",
       "4 5  0    1      3   2          3           4             0             \n",
       "5 8  0    1      1   1          3           5             1             \n",
       "6 9  0    1      4   3          3           4             1             \n",
       "  Revenu_Mensuelle Redoublant ⋯ Niveau_educ_pere Niveau_educ_mere Sign_ecole\n",
       "1   0              1          ⋯ 2                2                1         \n",
       "2   0              1          ⋯ 2                1                1         \n",
       "3 100              1          ⋯ 2                1                2         \n",
       "4   0              1          ⋯ 1                1                1         \n",
       "5   0              1          ⋯ 3                3                3         \n",
       "6 100              0          ⋯ 2                3                4         \n",
       "  Endroit_freq Ph_famille Ricule_Prof Ricule_collegue Sensation_apres_ecole\n",
       "1 1            1          0           1               1                    \n",
       "2 2            2          1           1               1                    \n",
       "3 1            3          0           0               1                    \n",
       "4 1            2          1           1               3                    \n",
       "5 4            4          0           0               3                    \n",
       "6 1            4          1           1               1                    \n",
       "  Apres_repture_ecole Violence\n",
       "1 1                   1       \n",
       "2 1                   1       \n",
       "3 2                   0       \n",
       "4 3                   1       \n",
       "5 2                   1       \n",
       "6 2                   0       "
      ]
     },
     "metadata": {},
     "output_type": "display_data"
    },
    {
     "name": "stdout",
     "output_type": "stream",
     "text": [
      "tibble [91 × 24] (S3: tbl_df/tbl/data.frame)\n",
      " $ ID                   : num [1:91] 1 2 3 5 8 9 10 11 12 15 ...\n",
      " $ sexe                 : num [1:91] 0 0 0 0 0 0 0 0 0 0 ...\n",
      " $ Region               : num [1:91] 1 1 1 1 1 1 1 1 1 1 ...\n",
      " $ Age                  : num [1:91] 2 4 4 3 1 4 4 4 4 4 ...\n",
      " $ etat_civil           : num [1:91] 1 2 2 2 1 3 3 2 2 2 ...\n",
      " $ N_educatif           : num [1:91] 3 3 3 3 3 3 3 3 3 3 ...\n",
      " $ Membre_famille       : num [1:91] 5 5 11 4 5 4 7 8 9 10 ...\n",
      " $ Revenu_famille       : num [1:91] 0 0 0 0 1 1 0 0 0 0 ...\n",
      " $ Revenu_Mensuelle     : num [1:91] 0 0 100 0 0 100 100 0 0 0 ...\n",
      " $ Redoublant           : num [1:91] 1 1 1 1 1 0 1 1 1 1 ...\n",
      " $ Prob_Enseignat       : num [1:91] 0 1 0 1 0 0 0 1 0 0 ...\n",
      " $ Aide_ecole           : num [1:91] 1 4 4 4 1 4 5 1 5 2 ...\n",
      " $ Rq_Comprtement       : num [1:91] 1 4 1 2 1 1 1 1 1 1 ...\n",
      " $ Relat_Parent         : num [1:91] 1 1 1 1 1 1 1 1 3 1 ...\n",
      " $ Niveau_educ_pere     : num [1:91] 2 2 2 1 3 2 2 1 2 2 ...\n",
      " $ Niveau_educ_mere     : num [1:91] 2 1 1 1 3 3 1 2 1 2 ...\n",
      " $ Sign_ecole           : num [1:91] 1 1 2 1 3 4 2 2 2 2 ...\n",
      " $ Endroit_freq         : num [1:91] 1 2 1 1 4 1 3 3 2 3 ...\n",
      " $ Ph_famille           : num [1:91] 1 2 3 2 4 4 2 3 3 3 ...\n",
      " $ Ricule_Prof          : num [1:91] 0 1 0 1 0 1 1 1 0 1 ...\n",
      " $ Ricule_collegue      : num [1:91] 1 1 0 1 0 1 0 1 0 0 ...\n",
      " $ Sensation_apres_ecole: num [1:91] 1 1 1 3 3 1 1 2 1 2 ...\n",
      " $ Apres_repture_ecole  : num [1:91] 1 1 2 3 2 2 4 2 3 2 ...\n",
      " $ Violence             : num [1:91] 1 1 0 1 1 0 0 1 0 0 ...\n"
     ]
    }
   ],
   "source": [
    "# Read the Excel file\n",
    "data <- read_excel(\"./data/exercice1.xlsx\")\n",
    "# Display the first few rows of the data\n",
    "head(data)\n",
    "str(data)"
   ]
  },
  {
   "cell_type": "code",
   "execution_count": 74,
   "metadata": {
    "vscode": {
     "languageId": "r"
    }
   },
   "outputs": [
    {
     "name": "stdout",
     "output_type": "stream",
     "text": [
      "tibble [91 × 24] (S3: tbl_df/tbl/data.frame)\n",
      " $ ID                   : num [1:91] 1 2 3 5 8 9 10 11 12 15 ...\n",
      " $ sexe                 : Factor w/ 2 levels \"0\",\"1\": 1 1 1 1 1 1 1 1 1 1 ...\n",
      " $ Region               : Factor w/ 2 levels \"1\",\"2\": 1 1 1 1 1 1 1 1 1 1 ...\n",
      " $ Age                  : num [1:91] 2 4 4 3 1 4 4 4 4 4 ...\n",
      " $ etat_civil           : Factor w/ 4 levels \"1\",\"2\",\"3\",\"4\": 1 2 2 2 1 3 3 2 2 2 ...\n",
      " $ N_educatif           : num [1:91] 3 3 3 3 3 3 3 3 3 3 ...\n",
      " $ Membre_famille       : num [1:91] 5 5 11 4 5 4 7 8 9 10 ...\n",
      " $ Revenu_famille       : num [1:91] 0 0 0 0 1 1 0 0 0 0 ...\n",
      " $ Revenu_Mensuelle     : num [1:91] 0 0 100 0 0 100 100 0 0 0 ...\n",
      " $ Redoublant           : Factor w/ 2 levels \"0\",\"1\": 2 2 2 2 2 1 2 2 2 2 ...\n",
      " $ Prob_Enseignat       : Factor w/ 2 levels \"0\",\"1\": 1 2 1 2 1 1 1 2 1 1 ...\n",
      " $ Aide_ecole           : Factor w/ 5 levels \"1\",\"2\",\"3\",\"4\",..: 1 4 4 4 1 4 5 1 5 2 ...\n",
      " $ Rq_Comprtement       : Factor w/ 4 levels \"1\",\"2\",\"3\",\"4\": 1 4 1 2 1 1 1 1 1 1 ...\n",
      " $ Relat_Parent         : Factor w/ 3 levels \"1\",\"2\",\"3\": 1 1 1 1 1 1 1 1 3 1 ...\n",
      " $ Niveau_educ_pere     : num [1:91] 2 2 2 1 3 2 2 1 2 2 ...\n",
      " $ Niveau_educ_mere     : num [1:91] 2 1 1 1 3 3 1 2 1 2 ...\n",
      " $ Sign_ecole           : Factor w/ 4 levels \"1\",\"2\",\"3\",\"4\": 1 1 2 1 3 4 2 2 2 2 ...\n",
      " $ Endroit_freq         : Factor w/ 6 levels \"1\",\"2\",\"3\",\"4\",..: 1 2 1 1 4 1 3 3 2 3 ...\n",
      " $ Ph_famille           : Factor w/ 4 levels \"1\",\"2\",\"3\",\"4\": 1 2 3 2 4 4 2 3 3 3 ...\n",
      " $ Ricule_Prof          : Factor w/ 2 levels \"0\",\"1\": 1 2 1 2 1 2 2 2 1 2 ...\n",
      " $ Ricule_collegue      : Factor w/ 2 levels \"0\",\"1\": 2 2 1 2 1 2 1 2 1 1 ...\n",
      " $ Sensation_apres_ecole: Factor w/ 3 levels \"1\",\"2\",\"3\": 1 1 1 3 3 1 1 2 1 2 ...\n",
      " $ Apres_repture_ecole  : Factor w/ 4 levels \"1\",\"2\",\"3\",\"4\": 1 1 2 3 2 2 4 2 3 2 ...\n",
      " $ Violence             : Factor w/ 2 levels \"0\",\"1\": 2 2 1 2 2 1 1 2 1 1 ...\n"
     ]
    }
   ],
   "source": [
    "# Convert categorical variables to factors\n",
    "data <- data %>%\n",
    "  mutate(\n",
    "    sexe = as.factor(sexe),\n",
    "    Region = as.factor(Region),\n",
    "    etat_civil = as.factor(etat_civil),\n",
    "    Redoublant = as.factor(Redoublant),\n",
    "    Prob_Enseignat = as.factor(Prob_Enseignat),\n",
    "    Aide_ecole = as.factor(Aide_ecole),\n",
    "    Rq_Comprtement = as.factor(Rq_Comprtement),\n",
    "    Relat_Parent = as.factor(Relat_Parent),\n",
    "    Sign_ecole = as.factor(Sign_ecole),\n",
    "    Endroit_freq = as.factor(Endroit_freq),\n",
    "    Ph_famille = as.factor(Ph_famille),\n",
    "    Ricule_Prof = as.factor(Ricule_Prof),\n",
    "    Ricule_collegue = as.factor(Ricule_collegue),\n",
    "    Sensation_apres_ecole = as.factor(Sensation_apres_ecole),\n",
    "    Apres_repture_ecole = as.factor(Apres_repture_ecole),\n",
    "    Violence = as.factor(Violence)\n",
    "  )\n",
    "str(data)"
   ]
  },
  {
   "cell_type": "code",
   "execution_count": 75,
   "metadata": {
    "vscode": {
     "languageId": "r"
    }
   },
   "outputs": [
    {
     "name": "stdout",
     "output_type": "stream",
     "text": [
      "# weights:  152 (111 variable)\n",
      "initial  value 124.766493 \n",
      "iter  10 value 67.828110\n",
      "iter  20 value 19.010555\n",
      "iter  30 value 1.516952\n",
      "iter  40 value 1.386463\n",
      "iter  50 value 1.386295\n",
      "final  value 1.386294 \n",
      "converged\n"
     ]
    },
    {
     "name": "stderr",
     "output_type": "stream",
     "text": [
      "Warning message in sqrt(diag(vc)):\n",
      "\"NaNs produced\"\n"
     ]
    },
    {
     "data": {
      "text/plain": [
       "Call:\n",
       "multinom(formula = Apres_repture_ecole ~ sexe + Age + Region + \n",
       "    etat_civil + N_educatif + Membre_famille + Revenu_famille + \n",
       "    Revenu_Mensuelle + Redoublant + Prob_Enseignat + Aide_ecole + \n",
       "    Rq_Comprtement + Relat_Parent + Niveau_educ_pere + Niveau_educ_mere + \n",
       "    Sign_ecole + Endroit_freq + Ph_famille + Ricule_Prof + Ricule_collegue, \n",
       "    data = data)\n",
       "\n",
       "Coefficients:\n",
       "  (Intercept)    sexe1       Age    Region2 etat_civil2 etat_civil3 etat_civil4\n",
       "2  -287.36754 12.04440 -25.92159 -146.68128   240.99055   217.13666   -50.47228\n",
       "3   -39.35314 88.71750  31.12081   79.10214   233.52037    12.64519   167.51897\n",
       "4  -125.22920 18.92821  61.97353  -33.94136    79.79206   -61.97937   -63.74664\n",
       "   N_educatif Membre_famille Revenu_famille Revenu_Mensuelle Redoublant1\n",
       "2   18.941663       2.568969      79.536861       0.07671753   177.09562\n",
       "3   -3.239772      -6.500250      -6.532371       0.03932989   -18.93271\n",
       "4 -119.612079      25.834745      35.542686       0.18250026   -79.93612\n",
       "  Prob_Enseignat1 Aide_ecole2 Aide_ecole3 Aide_ecole4 Aide_ecole5\n",
       "2       133.61513    65.28914    64.34566   -4.652279    91.94119\n",
       "3       -56.55034  -118.98549   114.45597  -49.644270   -41.81690\n",
       "4        32.05667  -100.84743   -92.25906 -103.414006   102.28955\n",
       "  Rq_Comprtement2 Rq_Comprtement3 Rq_Comprtement4 Relat_Parent2 Relat_Parent3\n",
       "2       -99.68487      -109.96238      -162.33357     186.00924    -61.556904\n",
       "3       114.53286       -12.18520      -183.30181     -96.57921     38.643069\n",
       "4      -101.39462       -35.79711        60.71155    -143.21241     -3.100683\n",
       "  Niveau_educ_pere Niveau_educ_mere Sign_ecole2 Sign_ecole3 Sign_ecole4\n",
       "2        -24.16016        101.92392  -133.56990  -133.70214   -63.37702\n",
       "3        -20.45286        -65.67166    93.87372    84.34571   199.73515\n",
       "4         44.05049         39.33854   -66.59906   -61.19274    23.76861\n",
       "  Endroit_freq2 Endroit_freq3 Endroit_freq4 Endroit_freq5 Endroit_freq6\n",
       "2     -36.11344      45.98161    -123.95283     173.23958      76.86679\n",
       "3     -24.48566      99.33146     -34.49801      16.12974     -31.59504\n",
       "4     -55.22695     165.72238     -78.58298     -31.19031      73.31769\n",
       "  Ph_famille2 Ph_famille3 Ph_famille4 Ricule_Prof1 Ricule_collegue1\n",
       "2  -104.48450    69.94531    49.46168    -17.92714        -94.92843\n",
       "3  -119.44619   -77.96132   -14.62690    -15.41678         12.97551\n",
       "4   -24.83735   -55.37994   114.11648    -48.05214        -93.04886\n",
       "\n",
       "Std. Errors:\n",
       "  (Intercept)        sexe1         Age      Region2  etat_civil2  etat_civil3\n",
       "2 0.001828269          NaN 0.006106304 3.518491e-05 0.0017935606 3.269627e-05\n",
       "3 0.133540931 3.069706e-91 0.520884948 1.329473e-01 0.0005946682 3.269627e-05\n",
       "4 0.042912298 2.910252e-22 0.341568823 4.411173e-02 0.0011994342 1.629898e-18\n",
       "    etat_civil4  N_educatif Membre_famille Revenu_famille Revenu_Mensuelle\n",
       "2 4.793215e-108 0.003939024     0.01228999    0.001234487        0.6725621\n",
       "3  2.092005e-14 0.276212302     0.66965415    0.132947111       23.3883578\n",
       "4  2.092005e-14 0.001465807     0.20843860    0.127272399       23.4490256\n",
       "  Redoublant1 Prob_Enseignat1  Aide_ecole2  Aide_ecole3  Aide_ecole4\n",
       "2 0.001827955     0.001233479 1.927549e-06 1.213683e-06 5.888258e-04\n",
       "3 0.005052405     0.128520878 2.456037e-06 1.284891e-01 5.013823e-03\n",
       "4 0.001199434     0.042912298 8.436011e-02 1.284718e-01 3.089705e-14\n",
       "   Aide_ecole5 Rq_Comprtement2 Rq_Comprtement3 Rq_Comprtement4 Relat_Parent2\n",
       "2 3.356937e-06    3.347709e-05    1.199496e-03    1.580005e-08  4.854812e-25\n",
       "3 3.340246e-06    3.350136e-05    6.044180e-08    2.087297e-28  8.026938e-37\n",
       "4 1.604407e-18    2.986573e-20    1.199434e-03    3.244006e-12  4.854812e-25\n",
       "  Relat_Parent3 Niveau_educ_pere Niveau_educ_mere  Sign_ecole2  Sign_ecole3\n",
       "2  3.340170e-06      0.003343035      0.003062653 0.0002800197 0.0003470505\n",
       "3  4.428337e-03      0.266768077      0.262061652 0.1287678822 0.0047712616\n",
       "4  1.011272e-13      0.001465807      0.085824596 0.1284718338 0.0843601086\n",
       "   Sign_ecole4 Endroit_freq2 Endroit_freq3 Endroit_freq4 Endroit_freq5\n",
       "2 1.199846e-03   0.001203107  1.265818e-08  2.927524e-06  1.534452e-08\n",
       "3 4.344450e-07   0.004428671  1.265827e-08  2.098233e-06  1.092798e-54\n",
       "4 1.199434e-03   0.085559543  1.600032e-18  4.330493e-36  2.570731e-38\n",
       "  Endroit_freq6  Ph_famille2  Ph_famille3  Ph_famille4 Ricule_Prof1\n",
       "2  5.762809e-08 1.199910e-03 0.0005936876 3.269264e-05 1.200636e-03\n",
       "3  5.762483e-08 4.459594e-07 0.1290824609 3.181773e-05 6.906983e-07\n",
       "4  3.264923e-12 1.199434e-03 0.1284718338 2.986573e-20 1.199434e-03\n",
       "  Ricule_collegue1\n",
       "2     1.200128e-03\n",
       "3     6.780396e-07\n",
       "4     1.199434e-03\n",
       "\n",
       "Residual Deviance: 2.772589 \n",
       "AIC: 224.7726 "
      ]
     },
     "metadata": {},
     "output_type": "display_data"
    }
   ],
   "source": [
    "model1 <- multinom(Apres_repture_ecole ~ sexe + Age + Region + etat_civil\n",
    "                   + N_educatif + Membre_famille + Revenu_famille\n",
    "                   + Revenu_Mensuelle + Redoublant + Prob_Enseignat\n",
    "                   + Aide_ecole + Rq_Comprtement + Relat_Parent\n",
    "                   + Niveau_educ_pere + Niveau_educ_mere + Sign_ecole\n",
    "                   + Endroit_freq + Ph_famille + Ricule_Prof\n",
    "                   + Ricule_collegue, data = data)\n",
    "summary(model1)"
   ]
  },
  {
   "cell_type": "markdown",
   "metadata": {},
   "source": [
    "```markdown\n",
    "Intercept (-287.37) : Valeur de la variable cible lorsque toutes les variables sont nulles (peu significative ici).\n",
    "\n",
    "sexe1 (12.04) : Si l'individu est masculin, la variable cible augmente de 12.04.\n",
    "\n",
    "Age (-25.92) : Chaque année supplémentaire d'âge diminue la variable cible de 25.92.\n",
    "\n",
    "Region2 (-146.68) : L'appartenance à la région 2 diminue la variable cible de 146.68.\n",
    "\n",
    "Etat_civil2 (240.99), Etat_civil3 (217.13), Etat_civil4 (-50.47) : L'état civil influence la variable cible, avec des effets positifs pour \"Etat_civil2\" et \"Etat_civil3\", et négatifs pour \"Etat_civil4\".\n",
    "\n",
    "Redoublant1 (177.10) : Un individu ayant redoublé voit sa variable cible augmenter de 177.10.\n",
    "```"
   ]
  }
 ],
 "metadata": {
  "language_info": {
   "name": "python"
  }
 },
 "nbformat": 4,
 "nbformat_minor": 2
}
