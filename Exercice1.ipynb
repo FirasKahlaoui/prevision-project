{
 "cells": [
  {
   "cell_type": "code",
   "execution_count": 9,
   "metadata": {
    "vscode": {
     "languageId": "r"
    }
   },
   "outputs": [],
   "source": [
    "library(readxl)\n",
    "library(tidyverse)\n",
    "library(nnet)\n",
    "library(lmtest)"
   ]
  },
  {
   "cell_type": "code",
   "execution_count": 10,
   "metadata": {
    "vscode": {
     "languageId": "r"
    }
   },
   "outputs": [
    {
     "data": {
      "text/html": [
       "<table class=\"dataframe\">\n",
       "<caption>A tibble: 6 × 24</caption>\n",
       "<thead>\n",
       "\t<tr><th scope=col>ID</th><th scope=col>sexe</th><th scope=col>Region</th><th scope=col>Age</th><th scope=col>etat_civil</th><th scope=col>N_educatif</th><th scope=col>Membre_famille</th><th scope=col>Revenu_famille</th><th scope=col>Revenu_Mensuelle</th><th scope=col>Redoublant</th><th scope=col>⋯</th><th scope=col>Niveau_educ_pere</th><th scope=col>Niveau_educ_mere</th><th scope=col>Sign_ecole</th><th scope=col>Endroit_freq</th><th scope=col>Ph_famille</th><th scope=col>Ricule_Prof</th><th scope=col>Ricule_collegue</th><th scope=col>Sensation_apres_ecole</th><th scope=col>Apres_repture_ecole</th><th scope=col>Violence</th></tr>\n",
       "\t<tr><th scope=col>&lt;dbl&gt;</th><th scope=col>&lt;dbl&gt;</th><th scope=col>&lt;dbl&gt;</th><th scope=col>&lt;dbl&gt;</th><th scope=col>&lt;dbl&gt;</th><th scope=col>&lt;dbl&gt;</th><th scope=col>&lt;dbl&gt;</th><th scope=col>&lt;dbl&gt;</th><th scope=col>&lt;dbl&gt;</th><th scope=col>&lt;dbl&gt;</th><th scope=col>⋯</th><th scope=col>&lt;dbl&gt;</th><th scope=col>&lt;dbl&gt;</th><th scope=col>&lt;dbl&gt;</th><th scope=col>&lt;dbl&gt;</th><th scope=col>&lt;dbl&gt;</th><th scope=col>&lt;dbl&gt;</th><th scope=col>&lt;dbl&gt;</th><th scope=col>&lt;dbl&gt;</th><th scope=col>&lt;dbl&gt;</th><th scope=col>&lt;dbl&gt;</th></tr>\n",
       "</thead>\n",
       "<tbody>\n",
       "\t<tr><td>1</td><td>0</td><td>1</td><td>2</td><td>1</td><td>3</td><td> 5</td><td>0</td><td>  0</td><td>1</td><td>⋯</td><td>2</td><td>2</td><td>1</td><td>1</td><td>1</td><td>0</td><td>1</td><td>1</td><td>1</td><td>1</td></tr>\n",
       "\t<tr><td>2</td><td>0</td><td>1</td><td>4</td><td>2</td><td>3</td><td> 5</td><td>0</td><td>  0</td><td>1</td><td>⋯</td><td>2</td><td>1</td><td>1</td><td>2</td><td>2</td><td>1</td><td>1</td><td>1</td><td>1</td><td>1</td></tr>\n",
       "\t<tr><td>3</td><td>0</td><td>1</td><td>4</td><td>2</td><td>3</td><td>11</td><td>0</td><td>100</td><td>1</td><td>⋯</td><td>2</td><td>1</td><td>2</td><td>1</td><td>3</td><td>0</td><td>0</td><td>1</td><td>2</td><td>0</td></tr>\n",
       "\t<tr><td>5</td><td>0</td><td>1</td><td>3</td><td>2</td><td>3</td><td> 4</td><td>0</td><td>  0</td><td>1</td><td>⋯</td><td>1</td><td>1</td><td>1</td><td>1</td><td>2</td><td>1</td><td>1</td><td>3</td><td>3</td><td>1</td></tr>\n",
       "\t<tr><td>8</td><td>0</td><td>1</td><td>1</td><td>1</td><td>3</td><td> 5</td><td>1</td><td>  0</td><td>1</td><td>⋯</td><td>3</td><td>3</td><td>3</td><td>4</td><td>4</td><td>0</td><td>0</td><td>3</td><td>2</td><td>1</td></tr>\n",
       "\t<tr><td>9</td><td>0</td><td>1</td><td>4</td><td>3</td><td>3</td><td> 4</td><td>1</td><td>100</td><td>0</td><td>⋯</td><td>2</td><td>3</td><td>4</td><td>1</td><td>4</td><td>1</td><td>1</td><td>1</td><td>2</td><td>0</td></tr>\n",
       "</tbody>\n",
       "</table>\n"
      ],
      "text/latex": [
       "A tibble: 6 × 24\n",
       "\\begin{tabular}{lllllllllllllllllllll}\n",
       " ID & sexe & Region & Age & etat\\_civil & N\\_educatif & Membre\\_famille & Revenu\\_famille & Revenu\\_Mensuelle & Redoublant & ⋯ & Niveau\\_educ\\_pere & Niveau\\_educ\\_mere & Sign\\_ecole & Endroit\\_freq & Ph\\_famille & Ricule\\_Prof & Ricule\\_collegue & Sensation\\_apres\\_ecole & Apres\\_repture\\_ecole & Violence\\\\\n",
       " <dbl> & <dbl> & <dbl> & <dbl> & <dbl> & <dbl> & <dbl> & <dbl> & <dbl> & <dbl> & ⋯ & <dbl> & <dbl> & <dbl> & <dbl> & <dbl> & <dbl> & <dbl> & <dbl> & <dbl> & <dbl>\\\\\n",
       "\\hline\n",
       "\t 1 & 0 & 1 & 2 & 1 & 3 &  5 & 0 &   0 & 1 & ⋯ & 2 & 2 & 1 & 1 & 1 & 0 & 1 & 1 & 1 & 1\\\\\n",
       "\t 2 & 0 & 1 & 4 & 2 & 3 &  5 & 0 &   0 & 1 & ⋯ & 2 & 1 & 1 & 2 & 2 & 1 & 1 & 1 & 1 & 1\\\\\n",
       "\t 3 & 0 & 1 & 4 & 2 & 3 & 11 & 0 & 100 & 1 & ⋯ & 2 & 1 & 2 & 1 & 3 & 0 & 0 & 1 & 2 & 0\\\\\n",
       "\t 5 & 0 & 1 & 3 & 2 & 3 &  4 & 0 &   0 & 1 & ⋯ & 1 & 1 & 1 & 1 & 2 & 1 & 1 & 3 & 3 & 1\\\\\n",
       "\t 8 & 0 & 1 & 1 & 1 & 3 &  5 & 1 &   0 & 1 & ⋯ & 3 & 3 & 3 & 4 & 4 & 0 & 0 & 3 & 2 & 1\\\\\n",
       "\t 9 & 0 & 1 & 4 & 3 & 3 &  4 & 1 & 100 & 0 & ⋯ & 2 & 3 & 4 & 1 & 4 & 1 & 1 & 1 & 2 & 0\\\\\n",
       "\\end{tabular}\n"
      ],
      "text/markdown": [
       "\n",
       "A tibble: 6 × 24\n",
       "\n",
       "| ID &lt;dbl&gt; | sexe &lt;dbl&gt; | Region &lt;dbl&gt; | Age &lt;dbl&gt; | etat_civil &lt;dbl&gt; | N_educatif &lt;dbl&gt; | Membre_famille &lt;dbl&gt; | Revenu_famille &lt;dbl&gt; | Revenu_Mensuelle &lt;dbl&gt; | Redoublant &lt;dbl&gt; | ⋯ ⋯ | Niveau_educ_pere &lt;dbl&gt; | Niveau_educ_mere &lt;dbl&gt; | Sign_ecole &lt;dbl&gt; | Endroit_freq &lt;dbl&gt; | Ph_famille &lt;dbl&gt; | Ricule_Prof &lt;dbl&gt; | Ricule_collegue &lt;dbl&gt; | Sensation_apres_ecole &lt;dbl&gt; | Apres_repture_ecole &lt;dbl&gt; | Violence &lt;dbl&gt; |\n",
       "|---|---|---|---|---|---|---|---|---|---|---|---|---|---|---|---|---|---|---|---|---|\n",
       "| 1 | 0 | 1 | 2 | 1 | 3 |  5 | 0 |   0 | 1 | ⋯ | 2 | 2 | 1 | 1 | 1 | 0 | 1 | 1 | 1 | 1 |\n",
       "| 2 | 0 | 1 | 4 | 2 | 3 |  5 | 0 |   0 | 1 | ⋯ | 2 | 1 | 1 | 2 | 2 | 1 | 1 | 1 | 1 | 1 |\n",
       "| 3 | 0 | 1 | 4 | 2 | 3 | 11 | 0 | 100 | 1 | ⋯ | 2 | 1 | 2 | 1 | 3 | 0 | 0 | 1 | 2 | 0 |\n",
       "| 5 | 0 | 1 | 3 | 2 | 3 |  4 | 0 |   0 | 1 | ⋯ | 1 | 1 | 1 | 1 | 2 | 1 | 1 | 3 | 3 | 1 |\n",
       "| 8 | 0 | 1 | 1 | 1 | 3 |  5 | 1 |   0 | 1 | ⋯ | 3 | 3 | 3 | 4 | 4 | 0 | 0 | 3 | 2 | 1 |\n",
       "| 9 | 0 | 1 | 4 | 3 | 3 |  4 | 1 | 100 | 0 | ⋯ | 2 | 3 | 4 | 1 | 4 | 1 | 1 | 1 | 2 | 0 |\n",
       "\n"
      ],
      "text/plain": [
       "  ID sexe Region Age etat_civil N_educatif Membre_famille Revenu_famille\n",
       "1 1  0    1      2   1          3           5             0             \n",
       "2 2  0    1      4   2          3           5             0             \n",
       "3 3  0    1      4   2          3          11             0             \n",
       "4 5  0    1      3   2          3           4             0             \n",
       "5 8  0    1      1   1          3           5             1             \n",
       "6 9  0    1      4   3          3           4             1             \n",
       "  Revenu_Mensuelle Redoublant ⋯ Niveau_educ_pere Niveau_educ_mere Sign_ecole\n",
       "1   0              1          ⋯ 2                2                1         \n",
       "2   0              1          ⋯ 2                1                1         \n",
       "3 100              1          ⋯ 2                1                2         \n",
       "4   0              1          ⋯ 1                1                1         \n",
       "5   0              1          ⋯ 3                3                3         \n",
       "6 100              0          ⋯ 2                3                4         \n",
       "  Endroit_freq Ph_famille Ricule_Prof Ricule_collegue Sensation_apres_ecole\n",
       "1 1            1          0           1               1                    \n",
       "2 2            2          1           1               1                    \n",
       "3 1            3          0           0               1                    \n",
       "4 1            2          1           1               3                    \n",
       "5 4            4          0           0               3                    \n",
       "6 1            4          1           1               1                    \n",
       "  Apres_repture_ecole Violence\n",
       "1 1                   1       \n",
       "2 1                   1       \n",
       "3 2                   0       \n",
       "4 3                   1       \n",
       "5 2                   1       \n",
       "6 2                   0       "
      ]
     },
     "metadata": {},
     "output_type": "display_data"
    },
    {
     "name": "stdout",
     "output_type": "stream",
     "text": [
      "tibble [91 × 24] (S3: tbl_df/tbl/data.frame)\n",
      " $ ID                   : num [1:91] 1 2 3 5 8 9 10 11 12 15 ...\n",
      " $ sexe                 : num [1:91] 0 0 0 0 0 0 0 0 0 0 ...\n",
      " $ Region               : num [1:91] 1 1 1 1 1 1 1 1 1 1 ...\n",
      " $ Age                  : num [1:91] 2 4 4 3 1 4 4 4 4 4 ...\n",
      " $ etat_civil           : num [1:91] 1 2 2 2 1 3 3 2 2 2 ...\n",
      " $ N_educatif           : num [1:91] 3 3 3 3 3 3 3 3 3 3 ...\n",
      " $ Membre_famille       : num [1:91] 5 5 11 4 5 4 7 8 9 10 ...\n",
      " $ Revenu_famille       : num [1:91] 0 0 0 0 1 1 0 0 0 0 ...\n",
      " $ Revenu_Mensuelle     : num [1:91] 0 0 100 0 0 100 100 0 0 0 ...\n",
      " $ Redoublant           : num [1:91] 1 1 1 1 1 0 1 1 1 1 ...\n",
      " $ Prob_Enseignat       : num [1:91] 0 1 0 1 0 0 0 1 0 0 ...\n",
      " $ Aide_ecole           : num [1:91] 1 4 4 4 1 4 5 1 5 2 ...\n",
      " $ Rq_Comprtement       : num [1:91] 1 4 1 2 1 1 1 1 1 1 ...\n",
      " $ Relat_Parent         : num [1:91] 1 1 1 1 1 1 1 1 3 1 ...\n",
      " $ Niveau_educ_pere     : num [1:91] 2 2 2 1 3 2 2 1 2 2 ...\n",
      " $ Niveau_educ_mere     : num [1:91] 2 1 1 1 3 3 1 2 1 2 ...\n",
      " $ Sign_ecole           : num [1:91] 1 1 2 1 3 4 2 2 2 2 ...\n",
      " $ Endroit_freq         : num [1:91] 1 2 1 1 4 1 3 3 2 3 ...\n",
      " $ Ph_famille           : num [1:91] 1 2 3 2 4 4 2 3 3 3 ...\n",
      " $ Ricule_Prof          : num [1:91] 0 1 0 1 0 1 1 1 0 1 ...\n",
      " $ Ricule_collegue      : num [1:91] 1 1 0 1 0 1 0 1 0 0 ...\n",
      " $ Sensation_apres_ecole: num [1:91] 1 1 1 3 3 1 1 2 1 2 ...\n",
      " $ Apres_repture_ecole  : num [1:91] 1 1 2 3 2 2 4 2 3 2 ...\n",
      " $ Violence             : num [1:91] 1 1 0 1 1 0 0 1 0 0 ...\n"
     ]
    }
   ],
   "source": [
    "# Read the Excel file\n",
    "data <- read_excel(\"./data/exercice1.xlsx\")\n",
    "# Display the first few rows of the data\n",
    "head(data)\n",
    "str(data)"
   ]
  },
  {
   "cell_type": "code",
   "execution_count": 12,
   "metadata": {
    "vscode": {
     "languageId": "r"
    }
   },
   "outputs": [
    {
     "name": "stdout",
     "output_type": "stream",
     "text": [
      "# weights:  88 (63 variable)\n"
     ]
    },
    {
     "name": "stdout",
     "output_type": "stream",
     "text": [
      "initial  value 124.766493 \n",
      "iter  10 value 78.622797\n",
      "iter  20 value 63.239268\n",
      "iter  30 value 55.258599\n",
      "iter  40 value 49.846960\n",
      "iter  50 value 47.101855\n",
      "iter  60 value 43.719936\n",
      "iter  70 value 43.481027\n",
      "iter  80 value 43.465618\n",
      "iter  90 value 43.465149\n",
      "final  value 43.465144 \n",
      "converged\n"
     ]
    },
    {
     "name": "stderr",
     "output_type": "stream",
     "text": [
      "Warning message in sqrt(diag(vc)):\n",
      "\"NaNs produced\"\n"
     ]
    },
    {
     "data": {
      "text/plain": [
       "Call:\n",
       "multinom(formula = Apres_repture_ecole ~ sexe + Age + Region + \n",
       "    etat_civil + N_educatif + Membre_famille + Revenu_famille + \n",
       "    Revenu_Mensuelle + Redoublant + Prob_Enseignat + Aide_ecole + \n",
       "    Rq_Comprtement + Relat_Parent + Niveau_educ_pere + Niveau_educ_mere + \n",
       "    Sign_ecole + Endroit_freq + Ph_famille + Ricule_Prof + Ricule_collegue, \n",
       "    data = data)\n",
       "\n",
       "Coefficients:\n",
       "  (Intercept)      sexe         Age       Region  etat_civil    N_educatif\n",
       "2   -7.489772 245.87263  -0.4376716   -2.4084838    4.901879 -5.771419e-01\n",
       "3  -10.469941  47.08085   0.7066992    0.6411367    5.941687  8.525498e-03\n",
       "4 -611.468711  82.99164 208.3453744 -225.7999524 -128.520080 -1.605677e+02\n",
       "  Membre_famille Revenu_famille Revenu_Mensuelle   Redoublant Prob_Enseignat\n",
       "2      0.2134464      0.4469855       0.00356250    0.6462154      1.3745384\n",
       "3      0.1245541      0.7613484       0.00124591   -0.2674273     -0.3408284\n",
       "4     23.4909023    -32.9186956       0.42818081 -187.7576202    -38.2412999\n",
       "  Aide_ecole Rq_Comprtement Relat_Parent Niveau_educ_pere Niveau_educ_mere\n",
       "2  0.5207737     -1.2429099   -0.6689233        0.4113848       0.99439784\n",
       "3  0.5451506     -0.8737298   -0.7168720       -1.1034168      -0.09905559\n",
       "4 62.2534163    110.9760625  -90.3090799      175.6900377      14.70431510\n",
       "  Sign_ecole Endroit_freq  Ph_famille Ricule_Prof Ricule_collegue\n",
       "2  0.2539833    0.1439979   0.8205266   -1.191701       0.8176965\n",
       "3  1.0602972   -0.4305329  -0.4167038   -3.501263       2.1884588\n",
       "4 50.5088759   -9.8422942 -36.6990838  178.049957    -268.0826058\n",
       "\n",
       "Std. Errors:\n",
       "   (Intercept)         sexe          Age       Region   etat_civil   N_educatif\n",
       "2 4.9495553867          NaN 0.6835739193 1.2126693797 2.079191e+00 0.7422415879\n",
       "3 5.8168838263          NaN 0.8319679772 1.4992349635 2.128219e+00 0.9759764612\n",
       "4 0.0000751934 7.889289e-26 0.0003082217 0.0001719478 7.615021e-05 0.0001436359\n",
       "  Membre_famille Revenu_famille Revenu_Mensuelle   Redoublant Prob_Enseignat\n",
       "2   0.2869574827   1.315523e+00      0.002480597 1.403336e+00   1.103960e+00\n",
       "3   0.3213858975   1.507344e+00      0.003250291 1.575577e+00   1.496669e+00\n",
       "4   0.0003546543   8.854036e-05      0.010175369 4.228614e-05   8.840521e-05\n",
       "    Aide_ecole Rq_Comprtement Relat_Parent Niveau_educ_pere Niveau_educ_mere\n",
       "2 0.3828841568   6.916202e-01 8.933906e-01     1.1522659775     0.9322822721\n",
       "3 0.4359874128   7.506734e-01 1.105212e+00     1.4007993505     1.0106117882\n",
       "4 0.0002229268   6.792839e-05 7.506101e-05     0.0001523442     0.0001622131\n",
       "    Sign_ecole Endroit_freq   Ph_famille  Ricule_Prof Ricule_collegue\n",
       "2 0.6610909608 3.705578e-01 0.5060289116 1.517345e+00    1.657078e+00\n",
       "3 0.7179790405 4.231106e-01 0.7413518770 2.335725e+00    1.958722e+00\n",
       "4 0.0001386024 7.404452e-05 0.0002429078 3.649516e-05    1.685085e-05\n",
       "\n",
       "Residual Deviance: 86.93029 \n",
       "AIC: 212.9303 "
      ]
     },
     "metadata": {},
     "output_type": "display_data"
    }
   ],
   "source": [
    "model1 <- multinom(Apres_repture_ecole ~ sexe + Age + Region + etat_civil\n",
    "                   + N_educatif + Membre_famille + Revenu_famille\n",
    "                   + Revenu_Mensuelle + Redoublant + Prob_Enseignat\n",
    "                   + Aide_ecole + Rq_Comprtement + Relat_Parent\n",
    "                   + Niveau_educ_pere + Niveau_educ_mere + Sign_ecole\n",
    "                   + Endroit_freq + Ph_famille + Ricule_Prof\n",
    "                   + Ricule_collegue, data = data)\n",
    "summary(model1)"
   ]
  },
  {
   "cell_type": "markdown",
   "metadata": {},
   "source": [
    "## Facteurs influençant la rupture scolaire\n",
    "\n",
    "- **Sexe** :  \n",
    "  L'impact du sexe est significatif, avec un coefficient de 245.87 pour la catégorie masculine, indiquant que ce facteur a une influence notable. Toutefois, la grande valeur du coefficient pourrait aussi signaler des problèmes de colinéarité avec d'autres variables.\n",
    "\n",
    "- **Âge** :  \n",
    "  L'âge a un effet variable, avec un coefficient de -0.44 pour chaque année supplémentaire. Cela suggère que, selon les catégories, l'augmentation de l'âge pourrait réduire légèrement la probabilité de rupture scolaire.\n",
    "\n",
    "- **Région** :  \n",
    "  La région semble avoir une influence, mais avec un coefficient négatif de -2.41. Cela pourrait refléter des disparités d'accès à l'éducation selon la zone géographique.\n",
    "\n",
    "- **État civil et niveau éducatif des parents** :  \n",
    "  L'état civil a un effet protecteur : un statut marital stable réduit la probabilité de rupture scolaire. Le niveau éducatif des parents (coefficients autour de 0.41 pour l'éducation du père et 0.99 pour la mère) montre qu’un niveau d'éducation plus élevé est lié à un moindre risque de rupture scolaire.\n",
    "\n",
    "- **Revenu familial et mensuel** :  \n",
    "  Un revenu familial plus élevé (coefficients de 0.45 et 0.0045 respectivement pour le revenu familial et mensuel) diminue la probabilité d'abandonner l'école, ce qui confirme l'influence des conditions économiques sur l'accès à l'éducation.\n",
    "\n",
    "- **Redoublement** :  \n",
    "  Le redoublement a un effet positif, avec un coefficient de 0.65, ce qui indique que les élèves ayant redoublé sont plus susceptibles de quitter l'école.\n",
    "\n",
    "- **Probabilité d'un enseignant** :  \n",
    "  La qualité de l'enseignement, représentée par la probabilité d'un enseignant, semble avoir un impact important avec un coefficient de 1.37, suggérant qu'un enseignement de qualité réduit les risques de rupture scolaire.\n",
    "\n",
    "- **Aide à l'école** :  \n",
    "  L’existence d’une aide scolaire est protectrice, avec un coefficient de 0.52, réduisant la probabilité d'abandon scolaire.\n",
    "\n",
    "- **Comportement et relation avec les parents** :  \n",
    "  Un comportement problématique (coefficient de -1.24) et une mauvaise relation avec les parents (coefficient de -0.67) augmentent significativement le risque de rupture scolaire.\n",
    "\n",
    "- **Phénomènes familiaux** :  \n",
    "  Des tensions familiales, indicatives de problèmes familiaux, augmentent aussi le risque d'abandon scolaire, avec un coefficient de 0.82.\n",
    "\n",
    "- **Railleries des professeurs et collègues** :  \n",
    "  Le harcèlement scolaire, qu'il vienne des professeurs ou des camarades, est un facteur de risque majeur pour la rupture scolaire, avec des coefficients de -1.19 et 0.82 respectivement.\n"
   ]
  },
  {
   "cell_type": "code",
   "execution_count": 21,
   "metadata": {
    "vscode": {
     "languageId": "r"
    }
   },
   "outputs": [
    {
     "name": "stdout",
     "output_type": "stream",
     "text": [
      "   predictions\n",
      "     1  2  3  4\n",
      "  1 29  0  0  0\n",
      "  2  3 23  5  0\n",
      "  3  2  5 12  1\n",
      "  4  0  0  0 10\n"
     ]
    }
   ],
   "source": [
    "# Make predictions\n",
    "predictions <- predict(model1, newdata = data)\n",
    "\n",
    "# Confusion matrix\n",
    "confusion_matrix <- table(data$Apres_repture_ecole, predictions)\n",
    "print(confusion_matrix)"
   ]
  },
  {
   "cell_type": "markdown",
   "metadata": {
    "vscode": {
     "languageId": "markdown"
    }
   },
   "source": [
    "# Matrice de confusion :\n",
    "\n",
    "- La première ligne montre que 29 prédictions ont été correctes pour la classe 1 (aucune erreur pour cette classe).\n",
    "- La deuxième ligne indique que 23 prédictions étaient correctes pour la classe 2, mais 3 ont été incorrectes et ont été classées comme 1, et 5 comme 3.\n",
    "- La troisième ligne montre que 12 prédictions étaient correctes pour la classe 3, mais 2 ont été incorrectes et ont été classées comme 1, 5 comme 2, et 1 comme 4.\n",
    "- La quatrième ligne montre que 10 prédictions étaient correctes pour la classe 4, sans erreurs."
   ]
  },
  {
   "cell_type": "code",
   "execution_count": 24,
   "metadata": {
    "vscode": {
     "languageId": "r"
    }
   },
   "outputs": [
    {
     "name": "stdout",
     "output_type": "stream",
     "text": [
      "[1] \"Accuracy: 0.822222222222222\"\n"
     ]
    }
   ],
   "source": [
    "# Accuracy calculation\n",
    "accuracy <- sum(diag(confusion_matrix)) / sum(confusion_matrix)\n",
    "print(paste(\"Accuracy:\", accuracy))"
   ]
  },
  {
   "cell_type": "markdown",
   "metadata": {},
   "source": [
    "# Précision globale :\n",
    "\n",
    "- *Exactitude (Accuracy) de 0.822* : Cela signifie que 82,22 % des prédictions faites par le modèle étaient correctes. C’est un bon indicateur de la performance globale du modèle."
   ]
  }
 ],
 "metadata": {
  "kernelspec": {
   "display_name": "R",
   "language": "R",
   "name": "ir"
  },
  "language_info": {
   "codemirror_mode": "r",
   "file_extension": ".r",
   "mimetype": "text/x-r-source",
   "name": "R",
   "pygments_lexer": "r",
   "version": "4.4.1"
  }
 },
 "nbformat": 4,
 "nbformat_minor": 2
}
